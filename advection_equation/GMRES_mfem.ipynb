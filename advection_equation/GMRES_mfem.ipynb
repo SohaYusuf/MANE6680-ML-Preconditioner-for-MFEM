{
 "cells": [
  {
   "cell_type": "markdown",
   "id": "85d2a594",
   "metadata": {},
   "source": [
    "# GMRES using scipy"
   ]
  },
  {
   "cell_type": "code",
   "execution_count": 1,
   "id": "1a444c60",
   "metadata": {},
   "outputs": [],
   "source": [
    "import numpy as np\n",
    "from scipy.sparse import csc_matrix, coo_matrix\n",
    "from scipy.sparse.linalg import gmres\n",
    "import matplotlib.pyplot as plt"
   ]
  },
  {
   "cell_type": "markdown",
   "id": "94b9d678",
   "metadata": {},
   "source": [
    "## Load data"
   ]
  },
  {
   "cell_type": "code",
   "execution_count": 2,
   "id": "efa7b84e",
   "metadata": {},
   "outputs": [
    {
     "name": "stdout",
     "output_type": "stream",
     "text": [
      "Number of nodes:  36865\n",
      "A shape:  (36865, 36865)\n"
     ]
    }
   ],
   "source": [
    "#Load the data\n",
    "A_matrix_path = \"data/A1_ex9.txt\"\n",
    "A_info = np.loadtxt(A_matrix_path)\n",
    "\n",
    "# Extract the row, column, and value arrays from the data\n",
    "row_A = A_info[:, 0].astype(int)\n",
    "col_A = A_info[:, 1].astype(int)\n",
    "val_A = A_info[:, 2]\n",
    "\n",
    "# Create the sparse matrix using COO format\n",
    "A = coo_matrix((val_A, (row_A, col_A)))\n",
    "num_nodes = A.shape[0]\n",
    "\n",
    "print('Number of nodes: ', num_nodes)\n",
    "print('A shape: ', A.shape)"
   ]
  },
  {
   "cell_type": "markdown",
   "id": "e24759dd",
   "metadata": {},
   "source": [
    "## Callback to print residual error "
   ]
  },
  {
   "cell_type": "code",
   "execution_count": 3,
   "id": "c0227901",
   "metadata": {},
   "outputs": [],
   "source": [
    "# Solve Ax = b using gmres and print residual error after every iteration\n",
    "iteration = 0\n",
    "residual_errors = []\n",
    "\n",
    "def callback(residual):\n",
    "    global iteration\n",
    "    iteration += 1\n",
    "    print(f'Iteration: {iteration} ==========> Residual: {np.linalg.norm(residual)}')\n",
    "    residual_errors.append(residual)"
   ]
  },
  {
   "cell_type": "markdown",
   "id": "2f295297",
   "metadata": {},
   "source": [
    "## GMRES to solve Au=b"
   ]
  },
  {
   "cell_type": "code",
   "execution_count": 4,
   "id": "f0299d95",
   "metadata": {
    "scrolled": true
   },
   "outputs": [
    {
     "name": "stdout",
     "output_type": "stream",
     "text": [
      "Iteration: 1 ==========> Residual: 0.25224751154426006\n",
      "Iteration: 2 ==========> Residual: 0.16054891498544754\n",
      "Iteration: 3 ==========> Residual: 0.06107750321313742\n",
      "Iteration: 4 ==========> Residual: 0.03879522310374673\n",
      "Iteration: 5 ==========> Residual: 0.02986808442304761\n",
      "Iteration: 6 ==========> Residual: 0.020393886386903766\n",
      "Iteration: 7 ==========> Residual: 0.017112398550174695\n",
      "Iteration: 8 ==========> Residual: 0.011111842610102295\n",
      "Iteration: 9 ==========> Residual: 0.008147512231771029\n",
      "Iteration: 10 ==========> Residual: 0.004735404940286291\n",
      "Iteration: 11 ==========> Residual: 0.003597325823490037\n",
      "Iteration: 12 ==========> Residual: 0.0028786075163118757\n",
      "Iteration: 13 ==========> Residual: 0.002222459769908807\n",
      "Iteration: 14 ==========> Residual: 0.0018823033961450112\n",
      "Iteration: 15 ==========> Residual: 0.0014584456334460413\n",
      "Iteration: 16 ==========> Residual: 0.0012797124998961357\n",
      "Iteration: 17 ==========> Residual: 0.0008983958131321409\n",
      "Iteration: 18 ==========> Residual: 0.0007623581817323858\n",
      "Iteration: 19 ==========> Residual: 0.000584321619196686\n",
      "Iteration: 20 ==========> Residual: 0.0005073334763566106\n",
      "Iteration: 21 ==========> Residual: 0.0004574993315985776\n",
      "Iteration: 22 ==========> Residual: 0.0003814813176118129\n",
      "Iteration: 23 ==========> Residual: 0.00033515902490026156\n",
      "Iteration: 24 ==========> Residual: 0.00025284237418150065\n",
      "Iteration: 25 ==========> Residual: 0.0002171450738301566\n",
      "Iteration: 26 ==========> Residual: 0.00017327249102444797\n",
      "Iteration: 27 ==========> Residual: 0.0001452594631170873\n",
      "Iteration: 28 ==========> Residual: 0.00012234933137524184\n",
      "Iteration: 29 ==========> Residual: 8.928992323214367e-05\n",
      "Iteration: 30 ==========> Residual: 7.262627834953121e-05\n",
      "Iteration: 31 ==========> Residual: 4.8385818481926845e-05\n",
      "Iteration: 32 ==========> Residual: 4.0007602070612466e-05\n",
      "Iteration: 33 ==========> Residual: 2.9380980194234257e-05\n",
      "Iteration: 34 ==========> Residual: 2.511383068717569e-05\n",
      "Iteration: 35 ==========> Residual: 1.9450455127343133e-05\n",
      "Iteration: 36 ==========> Residual: 1.6076243815128538e-05\n",
      "Iteration: 37 ==========> Residual: 1.2391888479818997e-05\n",
      "Iteration: 38 ==========> Residual: 1.0057161223612415e-05\n",
      "Iteration: 39 ==========> Residual: 8.13053571796301e-06\n",
      "Iteration: 40 ==========> Residual: 6.432237156890853e-06\n",
      "Iteration: 41 ==========> Residual: 5.623178971079778e-06\n",
      "Iteration: 42 ==========> Residual: 4.780440222869092e-06\n",
      "Iteration: 43 ==========> Residual: 3.998393351119073e-06\n",
      "Iteration: 44 ==========> Residual: 3.197426953079506e-06\n",
      "Iteration: 45 ==========> Residual: 2.751414912190243e-06\n",
      "Iteration: 46 ==========> Residual: 2.191543931399506e-06\n",
      "Iteration: 47 ==========> Residual: 1.8464037473757927e-06\n",
      "Iteration: 48 ==========> Residual: 1.383396092477291e-06\n",
      "Iteration: 49 ==========> Residual: 1.1438963589129657e-06\n",
      "Iteration: 50 ==========> Residual: 8.664168553142456e-07\n",
      "Iteration: 51 ==========> Residual: 6.790247617415152e-07\n",
      "Iteration: 52 ==========> Residual: 5.40948659975347e-07\n",
      "Iteration: 53 ==========> Residual: 4.513669000673834e-07\n",
      "Iteration: 54 ==========> Residual: 3.7471643777494187e-07\n",
      "Iteration: 55 ==========> Residual: 2.8454461542457044e-07\n",
      "Iteration: 56 ==========> Residual: 2.4224743615956767e-07\n",
      "Iteration: 57 ==========> Residual: 1.8923774026373604e-07\n",
      "Iteration: 58 ==========> Residual: 1.6634310567056492e-07\n",
      "Iteration: 59 ==========> Residual: 1.2896315873580122e-07\n",
      "Iteration: 60 ==========> Residual: 1.119850779875439e-07\n",
      "Iteration: 61 ==========> Residual: 1.0049797717069375e-07\n",
      "Iteration: 62 ==========> Residual: 8.321235527366082e-08\n",
      "Iteration: 63 ==========> Residual: 7.392618687231264e-08\n",
      "Iteration: 64 ==========> Residual: 5.721810584720138e-08\n",
      "Iteration: 65 ==========> Residual: 4.878631198325683e-08\n",
      "Iteration: 66 ==========> Residual: 3.6860650636213656e-08\n",
      "Iteration: 67 ==========> Residual: 3.003822721563146e-08\n",
      "Iteration: 68 ==========> Residual: 2.4839435976416182e-08\n",
      "Iteration: 69 ==========> Residual: 1.9613658062321766e-08\n",
      "Iteration: 70 ==========> Residual: 1.6631873520314895e-08\n",
      "Iteration: 71 ==========> Residual: 1.1975403241462216e-08\n",
      "Iteration: 72 ==========> Residual: 1.0029251427653831e-08\n",
      "Iteration: 73 ==========> Residual: 7.712714997498286e-09\n",
      "Iteration: 74 ==========> Residual: 6.6845490413373834e-09\n",
      "Iteration: 75 ==========> Residual: 5.293061261143675e-09\n",
      "Iteration: 76 ==========> Residual: 4.404095956566743e-09\n",
      "Iteration: 77 ==========> Residual: 3.490947535243261e-09\n",
      "Iteration: 78 ==========> Residual: 2.7673845291732645e-09\n",
      "Iteration: 79 ==========> Residual: 2.2083520020651784e-09\n",
      "Iteration: 80 ==========> Residual: 1.816838595145452e-09\n",
      "Iteration: 81 ==========> Residual: 1.6031284784744648e-09\n",
      "Iteration: 82 ==========> Residual: 1.3413718285527495e-09\n",
      "Iteration: 83 ==========> Residual: 1.0866041899983822e-09\n",
      "Iteration: 84 ==========> Residual: 8.716221589387374e-10\n",
      "Iteration: 85 ==========> Residual: 7.420371151344016e-10\n",
      "Iteration: 86 ==========> Residual: 5.83815852580151e-10\n",
      "Iteration: 87 ==========> Residual: 4.991996281696031e-10\n",
      "Iteration: 88 ==========> Residual: 3.806342612489851e-10\n",
      "Iteration: 89 ==========> Residual: 3.166595933755621e-10\n",
      "Iteration: 90 ==========> Residual: 2.350345214512218e-10\n",
      "Iteration: 91 ==========> Residual: 1.9751246044826938e-10\n",
      "Iteration: 92 ==========> Residual: 1.5980347651438668e-10\n",
      "Iteration: 93 ==========> Residual: 1.3323709281821183e-10\n",
      "Iteration: 94 ==========> Residual: 1.0961756576785017e-10\n",
      "Iteration: 95 ==========> Residual: 8.34462886183605e-11\n",
      "Iteration: 96 ==========> Residual: 7.173160686982089e-11\n",
      "Iteration: 97 ==========> Residual: 5.621954959389857e-11\n",
      "Iteration: 98 ==========> Residual: 4.99525078324357e-11\n",
      "Iteration: 99 ==========> Residual: 3.827426416015942e-11\n",
      "Iteration: 100 ==========> Residual: 3.3322409068116393e-11\n",
      "Iteration: 101 ==========> Residual: 2.978618531245816e-11\n",
      "Iteration: 102 ==========> Residual: 2.4420748333430266e-11\n",
      "Iteration: 103 ==========> Residual: 2.1792579120644143e-11\n",
      "Iteration: 104 ==========> Residual: 1.6942199587135317e-11\n",
      "Iteration: 105 ==========> Residual: 1.4588147927781338e-11\n",
      "Iteration: 106 ==========> Residual: 1.0756939636850259e-11\n",
      "Iteration: 107 ==========> Residual: 8.876838710881492e-12\n",
      "Iteration: 108 ==========> Residual: 7.321480929625586e-12\n",
      "Iteration: 109 ==========> Residual: 5.9282090456700545e-12\n",
      "Iteration: 110 ==========> Residual: 5.026719083810332e-12\n",
      "Iteration: 111 ==========> Residual: 3.65403998960833e-12\n",
      "Iteration: 112 ==========> Residual: 3.092964531481128e-12\n",
      "Iteration: 113 ==========> Residual: 2.364132424137356e-12\n",
      "Iteration: 114 ==========> Residual: 2.0583440552590013e-12\n",
      "Iteration: 115 ==========> Residual: 1.5987960294548528e-12\n",
      "Iteration: 116 ==========> Residual: 1.3510252398800634e-12\n",
      "Iteration: 117 ==========> Residual: 1.0676376575553727e-12\n",
      "Iteration: 118 ==========> Residual: 8.65367803421667e-13\n",
      "Iteration: 119 ==========> Residual: 7.032432917098734e-13\n",
      "Iteration: 120 ==========> Residual: 5.823532147916904e-13\n",
      "Iteration: 121 ==========> Residual: 5.168957495937914e-13\n",
      "Iteration: 122 ==========> Residual: 4.2918586648086435e-13\n",
      "Iteration: 123 ==========> Residual: 3.5474844449824604e-13\n",
      "Iteration: 124 ==========> Residual: 2.8064768126046597e-13\n",
      "Iteration: 125 ==========> Residual: 2.387888888734976e-13\n",
      "Iteration: 126 ==========> Residual: 1.9092795320436375e-13\n",
      "Iteration: 127 ==========> Residual: 1.5741904225692622e-13\n",
      "Iteration: 128 ==========> Residual: 1.2274299189990742e-13\n",
      "Iteration: 129 ==========> Residual: 9.910643932432616e-14\n"
     ]
    }
   ],
   "source": [
    "#A = csc_matrix([[3, 2, 0], [1, -1, 0], [0, 5, 1]], dtype=float)\n",
    "#b = np.array([2, 4, -1], dtype=float)\n",
    "\n",
    "u = np.random.rand(num_nodes, 1)\n",
    "b = A.dot(u)\n",
    "\n",
    "u_gmres, info = gmres(A, b, tol=1e-13, callback=callback)"
   ]
  },
  {
   "cell_type": "code",
   "execution_count": 5,
   "id": "aa2faad7",
   "metadata": {},
   "outputs": [],
   "source": [
    "#residual = np.sum(np.square(u - u_gmres))"
   ]
  },
  {
   "cell_type": "code",
   "execution_count": 6,
   "id": "afd09a4d",
   "metadata": {},
   "outputs": [
    {
     "data": {
      "text/plain": [
       "0"
      ]
     },
     "execution_count": 6,
     "metadata": {},
     "output_type": "execute_result"
    }
   ],
   "source": [
    "info"
   ]
  },
  {
   "cell_type": "markdown",
   "id": "c08453cf",
   "metadata": {},
   "source": [
    "## Plot residual error vs. number of iterations"
   ]
  },
  {
   "cell_type": "code",
   "execution_count": 7,
   "id": "3cb266c5",
   "metadata": {},
   "outputs": [
    {
     "data": {
      "text/plain": [
       "Text(0, 0.5, 'residual error')"
      ]
     },
     "execution_count": 7,
     "metadata": {},
     "output_type": "execute_result"
    },
    {
     "data": {
      "image/png": "[encoded data removed]",
      "text/plain": [
       "<Figure size 1000x400 with 2 Axes>"
      ]
     },
     "metadata": {},
     "output_type": "display_data"
    }
   ],
   "source": [
    "fig, (ax1, ax2) = plt.subplots(1, 2, figsize=(10,4))\n",
    "ax1.plot(residual_errors)\n",
    "ax1.set_title('GMRES log scale')\n",
    "ax1.set_xlabel('# iteration')\n",
    "ax1.set_ylabel('residual error')\n",
    "ax1.set_yscale('log')\n",
    "\n",
    "ax2.plot(residual_errors)\n",
    "ax2.set_title('GMRES')\n",
    "ax2.set_xlabel('Population of City in 10,000s')\n",
    "ax2.set_ylabel('residual error')"
   ]
  }
 ],
 "metadata": {
  "kernelspec": {
   "display_name": "Python 3 (ipykernel)",
   "language": "python",
   "name": "python3"
  },
  "language_info": {
   "codemirror_mode": {
    "name": "ipython",
    "version": 3
   },
   "file_extension": ".py",
   "mimetype": "text/x-python",
   "name": "python",
   "nbconvert_exporter": "python",
   "pygments_lexer": "ipython3",
   "version": "3.8.16"
  }
 },
 "nbformat": 4,
 "nbformat_minor": 5
}
