{
 "cells": [
  {
   "cell_type": "markdown",
   "id": "530c47be",
   "metadata": {},
   "source": [
    "# Research - Soha Yusuf (RIN: 662011092)"
   ]
  },
  {
   "cell_type": "markdown",
   "id": "d7d42d31",
   "metadata": {},
   "source": [
    "# Graph Neural Network to solve Au=b"
   ]
  },
  {
   "cell_type": "code",
   "execution_count": 1,
   "id": "4db24994",
   "metadata": {},
   "outputs": [
    {
     "name": "stderr",
     "output_type": "stream",
     "text": [
      "C:\\Users\\soha9\\anaconda3\\envs\\torch\\lib\\site-packages\\tqdm\\auto.py:22: TqdmWarning: IProgress not found. Please update jupyter and ipywidgets. See https://ipywidgets.readthedocs.io/en/stable/user_install.html\n",
      "  from .autonotebook import tqdm as notebook_tqdm\n"
     ]
    }
   ],
   "source": [
    "import torch\n",
    "import torch.nn as nn\n",
    "import torch.nn.functional as F\n",
    "import torch.optim as optim\n",
    "from torch_geometric.data import Data\n",
    "from torch_geometric.nn import GCNConv\n",
    "from torch_geometric.transforms import AddSelfLoops\n",
    "from torch_geometric.data import Data, DataLoader\n",
    "\n",
    "from scipy.sparse import coo_matrix, csr_matrix\n",
    "from torch_sparse import coalesce, SparseTensor\n",
    "from sklearn.model_selection import train_test_split\n",
    "import scipy\n",
    "from scipy.sparse.linalg import gmres\n",
    "\n",
    "import matplotlib.pyplot as plt\n",
    "import numpy as np"
   ]
  },
  {
   "cell_type": "code",
   "execution_count": 2,
   "id": "4bd3ac89",
   "metadata": {},
   "outputs": [],
   "source": [
    "device = torch.device('cuda' if torch.cuda.is_available() else 'cpu')"
   ]
  },
  {
   "cell_type": "markdown",
   "id": "78402dac",
   "metadata": {},
   "source": [
    "## Load sparse matrix A in coo format\n",
    "\n",
    "A:   m x n  \n",
    "\n",
    "b:   n x 1\n",
    "\n",
    "x:   m x 1"
   ]
  },
  {
   "cell_type": "code",
   "execution_count": 3,
   "id": "01ad10b8",
   "metadata": {},
   "outputs": [
    {
     "name": "stdout",
     "output_type": "stream",
     "text": [
      "Number of nodes:  36865\n",
      "A shape:  (36865, 36865)\n"
     ]
    }
   ],
   "source": [
    "#Load the data\n",
    "A_matrix_path = \"data/A1_ex9.txt\"\n",
    "A_info = np.loadtxt(A_matrix_path)\n",
    "\n",
    "# Extract the row, column, and value arrays from the data\n",
    "row_A = A_info[:, 0].astype(int)\n",
    "col_A = A_info[:, 1].astype(int)\n",
    "val_A = A_info[:, 2]\n",
    "\n",
    "# Create the sparse matrix using COO format\n",
    "A = coo_matrix((val_A, (row_A, col_A)))\n",
    "num_nodes = A.shape[0]\n",
    "\n",
    "print('Number of nodes: ', num_nodes)\n",
    "print('A shape: ', A.shape)\n",
    "\n",
    "u = np.random.rand(num_nodes, 1).astype(np.float32)\n",
    "b = A.dot(u).astype(np.float32)"
   ]
  },
  {
   "cell_type": "markdown",
   "id": "dcf108a5",
   "metadata": {},
   "source": [
    "## GMRES"
   ]
  },
  {
   "cell_type": "code",
   "execution_count": 4,
   "id": "63010366",
   "metadata": {},
   "outputs": [
    {
     "name": "stdout",
     "output_type": "stream",
     "text": [
      "Iteration: 1 ==========> Residual: 0.24903237960419963\n",
      "Iteration: 2 ==========> Residual: 0.15879892905759752\n",
      "Iteration: 3 ==========> Residual: 0.060350057819426296\n",
      "Iteration: 4 ==========> Residual: 0.038399424397142556\n",
      "Iteration: 5 ==========> Residual: 0.02951993678431415\n",
      "Iteration: 6 ==========> Residual: 0.020193598512503942\n",
      "Iteration: 7 ==========> Residual: 0.01694504560305429\n",
      "Iteration: 8 ==========> Residual: 0.011035538668717183\n",
      "Iteration: 9 ==========> Residual: 0.008088934940194137\n",
      "Iteration: 10 ==========> Residual: 0.004665636691814498\n",
      "Iteration: 11 ==========> Residual: 0.003548194322686828\n",
      "Iteration: 12 ==========> Residual: 0.0028355713795304334\n",
      "Iteration: 13 ==========> Residual: 0.0021813208201195856\n",
      "Iteration: 14 ==========> Residual: 0.0018338167936635984\n",
      "Iteration: 15 ==========> Residual: 0.0014170801877749137\n",
      "Iteration: 16 ==========> Residual: 0.0012418505271370502\n",
      "Iteration: 17 ==========> Residual: 0.0008678712016731752\n",
      "Iteration: 18 ==========> Residual: 0.000736539313459801\n",
      "Iteration: 19 ==========> Residual: 0.0005639361612319143\n",
      "Iteration: 20 ==========> Residual: 0.0004899302440911829\n",
      "Iteration: 21 ==========> Residual: 0.00044203429710101946\n",
      "Iteration: 22 ==========> Residual: 0.0003687140080735911\n",
      "Iteration: 23 ==========> Residual: 0.00032335650628038677\n",
      "Iteration: 24 ==========> Residual: 0.00024383625284329162\n",
      "Iteration: 25 ==========> Residual: 0.00020941857561810202\n",
      "Iteration: 26 ==========> Residual: 0.00016624686198405018\n",
      "Iteration: 27 ==========> Residual: 0.00013983207447631753\n",
      "Iteration: 28 ==========> Residual: 0.00011718931247331618\n",
      "Iteration: 29 ==========> Residual: 8.606847797667676e-05\n",
      "Iteration: 30 ==========> Residual: 6.93398557146396e-05\n",
      "Iteration: 31 ==========> Residual: 4.654196137886795e-05\n",
      "Iteration: 32 ==========> Residual: 3.84720895296513e-05\n",
      "Iteration: 33 ==========> Residual: 2.8442749478304603e-05\n",
      "Iteration: 34 ==========> Residual: 2.4334451491744e-05\n",
      "Iteration: 35 ==========> Residual: 1.899042035848277e-05\n",
      "Iteration: 36 ==========> Residual: 1.5746486917264136e-05\n",
      "Iteration: 37 ==========> Residual: 1.2206058307190485e-05\n",
      "Iteration: 38 ==========> Residual: 9.918594708491532e-06\n",
      "Iteration: 39 ==========> Residual: 8.012935724750785e-06\n",
      "Iteration: 40 ==========> Residual: 6.369837584484119e-06\n",
      "Iteration: 41 ==========> Residual: 5.561985634063867e-06\n",
      "Iteration: 42 ==========> Residual: 4.722115932242596e-06\n",
      "Iteration: 43 ==========> Residual: 3.943860636695136e-06\n",
      "Iteration: 44 ==========> Residual: 3.149328818618201e-06\n",
      "Iteration: 45 ==========> Residual: 2.7132888722916726e-06\n",
      "Iteration: 46 ==========> Residual: 2.1514476304772044e-06\n",
      "Iteration: 47 ==========> Residual: 1.8079753614480779e-06\n",
      "Iteration: 48 ==========> Residual: 1.3538810084747704e-06\n",
      "Iteration: 49 ==========> Residual: 1.1257326056636775e-06\n",
      "Iteration: 50 ==========> Residual: 8.698366573728627e-07\n",
      "Iteration: 51 ==========> Residual: 6.769548459862312e-07\n",
      "Iteration: 52 ==========> Residual: 5.365565224742153e-07\n",
      "Iteration: 53 ==========> Residual: 4.483728924508951e-07\n",
      "Iteration: 54 ==========> Residual: 3.7300737135488613e-07\n",
      "Iteration: 55 ==========> Residual: 2.8176386932369164e-07\n",
      "Iteration: 56 ==========> Residual: 2.396398403057362e-07\n",
      "Iteration: 57 ==========> Residual: 1.885789849388605e-07\n",
      "Iteration: 58 ==========> Residual: 1.653695263051321e-07\n",
      "Iteration: 59 ==========> Residual: 1.2855510366560712e-07\n",
      "Iteration: 60 ==========> Residual: 1.1123594446496937e-07\n",
      "Iteration: 61 ==========> Residual: 9.964511392512304e-08\n",
      "Iteration: 62 ==========> Residual: 8.302151799886179e-08\n",
      "Iteration: 63 ==========> Residual: 7.373884005789856e-08\n",
      "Iteration: 64 ==========> Residual: 5.6833308311362425e-08\n",
      "Iteration: 65 ==========> Residual: 4.882991805645374e-08\n",
      "Iteration: 66 ==========> Residual: 3.705204804053031e-08\n",
      "Iteration: 67 ==========> Residual: 2.983927687382363e-08\n",
      "Iteration: 68 ==========> Residual: 2.471635894373431e-08\n",
      "Iteration: 69 ==========> Residual: 1.9707105777114685e-08\n",
      "Iteration: 70 ==========> Residual: 1.679003824306087e-08\n",
      "Iteration: 71 ==========> Residual: 1.190371680829061e-08\n",
      "Iteration: 72 ==========> Residual: 9.924522736250877e-09\n",
      "Iteration: 73 ==========> Residual: 7.608418760327014e-09\n",
      "Iteration: 74 ==========> Residual: 6.609762821366967e-09\n",
      "Iteration: 75 ==========> Residual: 5.1753731323517044e-09\n",
      "Iteration: 76 ==========> Residual: 4.316832625582948e-09\n",
      "Iteration: 77 ==========> Residual: 3.4337500210155116e-09\n",
      "Iteration: 78 ==========> Residual: 2.7405841028338547e-09\n",
      "Iteration: 79 ==========> Residual: 2.2138965580203847e-09\n",
      "Iteration: 80 ==========> Residual: 1.8085722635486634e-09\n",
      "Iteration: 81 ==========> Residual: 1.595506408567993e-09\n",
      "Iteration: 82 ==========> Residual: 1.3399703569222487e-09\n",
      "Iteration: 83 ==========> Residual: 1.0850780335736139e-09\n",
      "Iteration: 84 ==========> Residual: 8.635447163423362e-10\n",
      "Iteration: 85 ==========> Residual: 7.407619638130132e-10\n",
      "Iteration: 86 ==========> Residual: 5.836081398800302e-10\n",
      "Iteration: 87 ==========> Residual: 4.947686802013463e-10\n",
      "Iteration: 88 ==========> Residual: 3.721803623160282e-10\n",
      "Iteration: 89 ==========> Residual: 3.136580207484795e-10\n",
      "Iteration: 90 ==========> Residual: 2.4094689682901773e-10\n",
      "Iteration: 91 ==========> Residual: 1.9887183613525926e-10\n",
      "Iteration: 92 ==========> Residual: 1.5806665681092376e-10\n",
      "Iteration: 93 ==========> Residual: 1.33318025159457e-10\n",
      "Iteration: 94 ==========> Residual: 1.1027372552431156e-10\n",
      "Iteration: 95 ==========> Residual: 8.251308205975791e-11\n",
      "Iteration: 96 ==========> Residual: 7.03831918116021e-11\n",
      "Iteration: 97 ==========> Residual: 5.668141633405772e-11\n",
      "Iteration: 98 ==========> Residual: 4.9810023784282225e-11\n",
      "Iteration: 99 ==========> Residual: 3.796322653171751e-11\n",
      "Iteration: 100 ==========> Residual: 3.294185599567227e-11\n",
      "Iteration: 101 ==========> Residual: 2.951100389462656e-11\n",
      "Iteration: 102 ==========> Residual: 2.42654717857069e-11\n",
      "Iteration: 103 ==========> Residual: 2.163291756357379e-11\n",
      "Iteration: 104 ==========> Residual: 1.6834098477486043e-11\n",
      "Iteration: 105 ==========> Residual: 1.4545393204013013e-11\n",
      "Iteration: 106 ==========> Residual: 1.0867924467537018e-11\n",
      "Iteration: 107 ==========> Residual: 8.75016436479701e-12\n",
      "Iteration: 108 ==========> Residual: 7.291615058473321e-12\n",
      "Iteration: 109 ==========> Residual: 5.9195806404150875e-12\n",
      "Iteration: 110 ==========> Residual: 5.0966819261590104e-12\n",
      "Iteration: 111 ==========> Residual: 3.636388595269157e-12\n",
      "Iteration: 112 ==========> Residual: 3.0844123113373e-12\n",
      "Iteration: 113 ==========> Residual: 2.37326784806779e-12\n",
      "Iteration: 114 ==========> Residual: 2.0665030415033767e-12\n",
      "Iteration: 115 ==========> Residual: 1.6170715427148073e-12\n",
      "Iteration: 116 ==========> Residual: 1.3438725024717686e-12\n",
      "Iteration: 117 ==========> Residual: 1.0889475617845194e-12\n",
      "Iteration: 118 ==========> Residual: 8.713203185868996e-13\n",
      "Iteration: 119 ==========> Residual: 7.224616206994926e-13\n",
      "Iteration: 120 ==========> Residual: 5.835201704529764e-13\n",
      "Iteration: 121 ==========> Residual: 5.171157475751706e-13\n",
      "Iteration: 122 ==========> Residual: 4.3001892620858606e-13\n",
      "Iteration: 123 ==========> Residual: 3.532560466875631e-13\n",
      "Iteration: 124 ==========> Residual: 2.788552694033238e-13\n",
      "Iteration: 125 ==========> Residual: 2.3814995664190274e-13\n",
      "Iteration: 126 ==========> Residual: 1.8891219597447711e-13\n",
      "Iteration: 127 ==========> Residual: 1.584173806637441e-13\n",
      "Iteration: 128 ==========> Residual: 1.209485216075685e-13\n",
      "Iteration: 129 ==========> Residual: 1.0006696966023217e-13\n",
      "Iteration: 130 ==========> Residual: 7.967532895996427e-14\n"
     ]
    }
   ],
   "source": [
    "# Solve Ax = b using gmres and print residual error after every iteration\n",
    "iteration = 0\n",
    "residual_errors = []\n",
    "\n",
    "def callback(residual):\n",
    "    global iteration\n",
    "    iteration += 1\n",
    "    print(f'Iteration: {iteration} ==========> Residual: {np.linalg.norm(residual)}')\n",
    "    residual_errors.append(residual)\n",
    "    \n",
    "u_gmres, info = gmres(A, b, tol=1e-13, callback=callback)"
   ]
  },
  {
   "cell_type": "code",
   "execution_count": 5,
   "id": "f2e39836",
   "metadata": {},
   "outputs": [
    {
     "data": {
      "text/plain": [
       "Text(0, 0.5, 'residual error')"
      ]
     },
     "execution_count": 5,
     "metadata": {},
     "output_type": "execute_result"
    },
    {
     "data": {
      "image/png": "[encoded data removed]",
      "text/plain": [
       "<Figure size 1000x400 with 2 Axes>"
      ]
     },
     "metadata": {},
     "output_type": "display_data"
    }
   ],
   "source": [
    "fig, (ax1, ax2) = plt.subplots(1, 2, figsize=(10,4))\n",
    "ax1.plot(residual_errors)\n",
    "ax1.set_title('GMRES log scale')\n",
    "ax1.set_xlabel('# iteration')\n",
    "ax1.set_ylabel('residual error')\n",
    "ax1.set_yscale('log')\n",
    "\n",
    "ax2.plot(residual_errors)\n",
    "ax2.set_title('GMRES')\n",
    "ax2.set_xlabel('# iteration')\n",
    "ax2.set_ylabel('residual error')"
   ]
  },
  {
   "cell_type": "markdown",
   "id": "8fe8d5e9",
   "metadata": {},
   "source": [
    "## Convert A to pytorch tensor and normalize"
   ]
  },
  {
   "cell_type": "code",
   "execution_count": 6,
   "id": "23157ed7",
   "metadata": {},
   "outputs": [
    {
     "name": "stdout",
     "output_type": "stream",
     "text": [
      "torch.Size([36865, 36865])\n"
     ]
    }
   ],
   "source": [
    "# Convert A to PyTorch SparseTensor\n",
    "indices = torch.from_numpy(np.vstack((A.row, A.col))).long()\n",
    "values = torch.from_numpy(A.data).float()\n",
    "shape = torch.Size(A.shape)\n",
    "\n",
    "A = torch.sparse.FloatTensor(indices, values, shape)\n",
    "\n",
    "print(A.shape)"
   ]
  },
  {
   "cell_type": "code",
   "execution_count": 7,
   "id": "b6546953",
   "metadata": {},
   "outputs": [
    {
     "name": "stdout",
     "output_type": "stream",
     "text": [
      "Min value:  -3.3446024e-05\n",
      "Max value:  0.00022160413\n",
      "Range of A:  0.00025505017\n"
     ]
    }
   ],
   "source": [
    "# find the maximum and minimum values in A_normalized without converting to dense tensor\n",
    "A_values = A.coalesce().values()\n",
    "max_value = torch.max(A_values)\n",
    "min_value = torch.min(A_values)\n",
    "\n",
    "print('Min value: ', min_value.numpy())\n",
    "print('Max value: ', max_value.numpy())\n",
    "print('Range of A: ', (torch.abs(max_value-min_value)).numpy())"
   ]
  },
  {
   "cell_type": "code",
   "execution_count": 8,
   "id": "7f327867",
   "metadata": {},
   "outputs": [],
   "source": [
    "# compute the mean and standard deviation of the non-zero entries of A\n",
    "mean = torch.mean(A.coalesce().values())\n",
    "std = torch.std(A.coalesce().values())\n",
    "\n",
    "# normalize the non-zero entries of A\n",
    "A  = torch.sparse.FloatTensor(A.coalesce().indices(), (A.coalesce().values() - mean) / std, A.size())"
   ]
  },
  {
   "cell_type": "code",
   "execution_count": 9,
   "id": "b9e1b170",
   "metadata": {},
   "outputs": [
    {
     "name": "stdout",
     "output_type": "stream",
     "text": [
      "Min value:  -1.3901997\n",
      "Max value:  7.588961\n",
      "Range of A:  8.97916\n"
     ]
    }
   ],
   "source": [
    "# find the maximum and minimum values in A_normalized without converting to dense tensor\n",
    "A_normalized_values = A.coalesce().values()\n",
    "max_normalized_value = torch.max(A_normalized_values)\n",
    "min_normalized_value = torch.min(A_normalized_values)\n",
    "\n",
    "print('Min value: ', min_normalized_value.numpy())\n",
    "print('Max value: ', max_normalized_value.numpy())\n",
    "print('Range of A: ', (torch.abs(max_normalized_value-min_normalized_value)).numpy())"
   ]
  },
  {
   "cell_type": "markdown",
   "id": "913b593b",
   "metadata": {},
   "source": [
    "## Compute u and b"
   ]
  },
  {
   "cell_type": "code",
   "execution_count": 10,
   "id": "ace02565",
   "metadata": {},
   "outputs": [],
   "source": [
    "# u = torch.FloatTensor(np.random.rand(num_nodes, 1))\n",
    "# b = A.matmul(u)\n",
    "\n",
    "u = torch.from_numpy(u)\n",
    "b = torch.from_numpy(b)"
   ]
  },
  {
   "cell_type": "code",
   "execution_count": 11,
   "id": "26e506b5",
   "metadata": {},
   "outputs": [
    {
     "data": {
      "text/plain": [
       "tensor(indices=tensor([[    1,     1,     1,  ..., 36864, 36864, 36864],\n",
       "                       [    1,     2,     3,  ..., 36862, 36863, 36864]]),\n",
       "       values=tensor([ 0.0991, -0.0965, -0.3289,  ..., -0.3289, -0.0965,\n",
       "                       0.0991]),\n",
       "       size=(36865, 36865), nnz=662016, layout=torch.sparse_coo)"
      ]
     },
     "execution_count": 11,
     "metadata": {},
     "output_type": "execute_result"
    }
   ],
   "source": [
    "A"
   ]
  },
  {
   "cell_type": "code",
   "execution_count": 12,
   "id": "e1032e99",
   "metadata": {},
   "outputs": [
    {
     "name": "stdout",
     "output_type": "stream",
     "text": [
      "Min value of u:  5.727447e-05\n",
      "Max value of u:  0.999963\n",
      "Range of u:  0.9999057\n"
     ]
    }
   ],
   "source": [
    "u_max = torch.max(u)\n",
    "u_min = torch.min(u)\n",
    "\n",
    "print('Min value of u: ', u_min.numpy())\n",
    "print('Max value of u: ', u_max.numpy())\n",
    "print('Range of u: ', (torch.abs(u_max-u_min)).numpy())"
   ]
  },
  {
   "cell_type": "code",
   "execution_count": 13,
   "id": "6fd2f5c6",
   "metadata": {},
   "outputs": [
    {
     "name": "stdout",
     "output_type": "stream",
     "text": [
      "Min value of u:  -2.9401683e-05\n",
      "Max value of u:  0.00032256593\n",
      "Range of u:  0.0003519676\n"
     ]
    }
   ],
   "source": [
    "b_max = torch.max(b)\n",
    "b_min = torch.min(b)\n",
    "\n",
    "print('Min value of u: ', b_min.numpy())\n",
    "print('Max value of u: ', b_max.numpy())\n",
    "print('Range of u: ', (torch.abs(b_max-b_min)).numpy())"
   ]
  },
  {
   "cell_type": "markdown",
   "id": "ec4ffe8a",
   "metadata": {},
   "source": [
    "## Edge Index\n",
    "\n",
    "In graph neural networks, edge_index is a commonly used term that refers to a matrix or tensor that represents the edges of a graph. It is a two-dimensional matrix with two rows, where each column represents an edge of the graph. The first row of the matrix contains the index of the source nodes of each edge, while the second row contains the index of the destination nodes.\n",
    "\n",
    "For example, let's say we have a simple undirected graph with 4 nodes and 3 edges, where the edges are (0,1), (1,2), and (2,3). We can represent this graph using the following edge_index matrix:\n",
    "\n",
    "```\n",
    "edge_index = [\n",
    "  [0, 1, 1, 2],\n",
    "  [1, 0, 2, 3]\n",
    "]\n",
    "```\n",
    "Here, the first row of edge_index represents the source nodes of each edge, and the second row represents the destination nodes. For example, the first edge (0,1) has source node 0 and destination node 1.\n",
    "\n",
    "The edge_index matrix is typically used in conjunction with node feature matrices to define the input to a graph neural network. The node feature matrix contains features for each node in the graph, while the edge_index matrix describes the edges that connect the nodes. By combining these two matrices, a graph neural network can learn to operate on the graph structure and its associated features."
   ]
  },
  {
   "cell_type": "markdown",
   "id": "c1f5d196",
   "metadata": {},
   "source": [
    "## Edge Weights\n",
    "\n",
    "In graph neural networks, edge_weights are values associated with the edges of a graph, which can be used to represent the strength, importance or similarity between connected nodes. edge_weights can be used in a variety of ways, such as during message passing, graph convolutions or pooling operations.\n",
    "\n",
    "edge_weights can be represented as a tensor or an array, with one value per edge. If the edges are unweighted, i.e., all edges are equally important, then the edge_weights can be represented as an array of ones. However, if the edges have different weights, then the edge_weights can be assigned accordingly."
   ]
  },
  {
   "cell_type": "code",
   "execution_count": 14,
   "id": "6040069a",
   "metadata": {},
   "outputs": [],
   "source": [
    "# Assuming A_sp is a PyTorch SparseTensor\n",
    "A_coo = A.coalesce()\n",
    "edge_index = A_coo.indices()\n",
    "edge_weights = A_coo.values()\n",
    "\n",
    "# Convert edge indices to PyTorch LongTensor\n",
    "edge_index = edge_index.long()"
   ]
  },
  {
   "cell_type": "code",
   "execution_count": 15,
   "id": "977edfce",
   "metadata": {},
   "outputs": [
    {
     "name": "stdout",
     "output_type": "stream",
     "text": [
      "====== Edge Index =====\n",
      "edge_index shape:  torch.Size([2, 662016])\n",
      "tensor([[    1,     1,     1,  ..., 36864, 36864, 36864],\n",
      "        [    1,     2,     3,  ..., 36862, 36863, 36864]])\n",
      "====== Edge Weights =====\n",
      "edge_weights shape:  torch.Size([662016])\n",
      "tensor([ 0.0991, -0.0965, -0.3289,  ..., -0.3289, -0.0965,  0.0991])\n"
     ]
    }
   ],
   "source": [
    "print('====== Edge Index =====')\n",
    "print('edge_index shape: ',edge_index.shape)\n",
    "print(edge_index)\n",
    "print('====== Edge Weights =====')\n",
    "print('edge_weights shape: ',edge_weights.shape)\n",
    "print(edge_weights)"
   ]
  },
  {
   "cell_type": "markdown",
   "id": "70bb7e29",
   "metadata": {},
   "source": [
    "## Create data object for input to GNN\n",
    "\n",
    "The Data object has the following attributes:\n",
    "\n",
    "- **'x'**: a tensor of node features with shape **'[36865, 1]'**. This means there are 36865 nodes in the graph, each with 1 feature.\n",
    "- **'edge_index'**: a tensor of shape **'[2, 662016]'** representing the edge index of the graph. The first row contains the source nodes and the second row contains the destination nodes. There are 662016 edges in the graph.\n",
    "\n",
    "- **'edge_attr'**: a tensor of edge weights with shape **'[662016]'**. This means there is one weight for each edge in the graph.\n",
    "\n",
    "- **'num_nodes'**: an integer value of **36865** representing the total number of nodes in the graph."
   ]
  },
  {
   "cell_type": "code",
   "execution_count": 16,
   "id": "3c205fa1",
   "metadata": {},
   "outputs": [
    {
     "name": "stdout",
     "output_type": "stream",
     "text": [
      "Data(x=[36865, 1], edge_index=[2, 662016], edge_attr=[662016], y=[36865, 1], num_nodes=36865)\n"
     ]
    }
   ],
   "source": [
    "# Create a Data object from edge_index, edge_weights, and node features\n",
    "data = Data(x=b, edge_index=edge_index, edge_attr=edge_weights, num_nodes=num_nodes, y=u)\n",
    "data = data.to(device)\n",
    "\n",
    "# Print the Data object\n",
    "print(data)"
   ]
  },
  {
   "cell_type": "markdown",
   "id": "3f23229c",
   "metadata": {},
   "source": [
    "## Graph Neural Network model\n",
    "\n",
    "The given model is a graph convolutional network (GCN) that consists of 4 graph convolutional layers.\n",
    "\n",
    "- First layer, the model takes a feature vector of size 1 for each node and applies the GCNConv operation with 128 output channels. The output of this layer is then passed through a rectified linear unit (ReLU) activation function.\n",
    "\n",
    "- Last layer applies the GCNConv operation with a single output channel, which is the predicted value for each node.\n",
    "\n",
    "The model takes the input data **'x'** and **'edge_index'** and returns the predicted values for each node."
   ]
  },
  {
   "cell_type": "code",
   "execution_count": 17,
   "id": "2e76868d",
   "metadata": {},
   "outputs": [],
   "source": [
    "class GCN(torch.nn.Module):\n",
    "    def __init__(self):\n",
    "        super(GCN, self).__init__()\n",
    "        self.conv1 = GCNConv(1, 64)\n",
    "        self.dropout1 = torch.nn.Dropout(p=0.2)\n",
    "        self.conv2 = GCNConv(64, 32)\n",
    "        self.dropout2 = torch.nn.Dropout(p=0.2)\n",
    "        self.conv3 = GCNConv(32, 16)\n",
    "        self.dropout3 = torch.nn.Dropout(p=0.2)\n",
    "        self.conv4 = GCNConv(16, 1)\n",
    "\n",
    "    def forward(self, x, edge_index):\n",
    "        x = self.conv1(x, edge_index)\n",
    "        x = F.relu(x)\n",
    "        x = self.dropout1(x)\n",
    "        x = self.conv2(x, edge_index)\n",
    "        x = F.relu(x)\n",
    "        x = self.dropout2(x)\n",
    "        x = self.conv3(x, edge_index)\n",
    "        x = F.relu(x)\n",
    "        x = self.dropout3(x)\n",
    "        x = self.conv4(x, edge_index)\n",
    "        return x"
   ]
  },
  {
   "cell_type": "code",
   "execution_count": 18,
   "id": "67caa4fe",
   "metadata": {},
   "outputs": [],
   "source": [
    "from torch_geometric.nn import GATConv\n",
    "\n",
    "class GAT(torch.nn.Module):\n",
    "    def __init__(self):\n",
    "        super(GAT, self).__init__()\n",
    "        self.conv1 = GATConv(1, 64, heads=4)\n",
    "        self.dropout1 = torch.nn.Dropout(p=0.2)\n",
    "        self.conv2 = GATConv(64*4, 32, heads=4)\n",
    "        self.dropout2 = torch.nn.Dropout(p=0.2)\n",
    "        self.conv3 = GATConv(32*4, 16, heads=4)\n",
    "        self.dropout3 = torch.nn.Dropout(p=0.2)\n",
    "        self.conv4 = GATConv(16*4, 1, heads=1, concat=False)\n",
    "\n",
    "    def forward(self, x, edge_index):\n",
    "        x = self.conv1(x, edge_index)\n",
    "        x = F.elu(x)\n",
    "        x = self.dropout1(x)\n",
    "        x = self.conv2(x, edge_index)\n",
    "        x = F.elu(x)\n",
    "        x = self.dropout2(x)\n",
    "        x = self.conv3(x, edge_index)\n",
    "        x = F.elu(x)\n",
    "        x = self.dropout3(x)\n",
    "        x = self.conv4(x, edge_index)\n",
    "        return x"
   ]
  },
  {
   "cell_type": "markdown",
   "id": "fda5d481",
   "metadata": {},
   "source": [
    "## Train Graph Convolutional Network"
   ]
  },
  {
   "cell_type": "code",
   "execution_count": 19,
   "id": "f440c255",
   "metadata": {
    "scrolled": true
   },
   "outputs": [
    {
     "name": "stdout",
     "output_type": "stream",
     "text": [
      "Epoch 0, Loss: 0.3347967267036438\n",
      "Epoch 1, Loss: 0.32476547360420227\n",
      "Epoch 2, Loss: 0.3151496648788452\n",
      "Epoch 3, Loss: 0.3059280812740326\n",
      "Epoch 4, Loss: 0.2970837652683258\n",
      "Epoch 5, Loss: 0.2886151373386383\n",
      "Epoch 6, Loss: 0.2804514169692993\n",
      "Epoch 7, Loss: 0.2727220356464386\n",
      "Epoch 8, Loss: 0.265196293592453\n",
      "Epoch 9, Loss: 0.25808587670326233\n",
      "Epoch 10, Loss: 0.2511402368545532\n",
      "Epoch 11, Loss: 0.2445436418056488\n",
      "Epoch 12, Loss: 0.23815207183361053\n",
      "Epoch 13, Loss: 0.23208661377429962\n",
      "Epoch 14, Loss: 0.22627077996730804\n",
      "Epoch 15, Loss: 0.22063779830932617\n",
      "Epoch 16, Loss: 0.21529200673103333\n",
      "Epoch 17, Loss: 0.21016930043697357\n",
      "Epoch 18, Loss: 0.20509324967861176\n",
      "Epoch 19, Loss: 0.2004128247499466\n",
      "Epoch 20, Loss: 0.19570595026016235\n",
      "Epoch 21, Loss: 0.1913183480501175\n",
      "Epoch 22, Loss: 0.1872263103723526\n",
      "Epoch 23, Loss: 0.18314319849014282\n",
      "Epoch 24, Loss: 0.1792474389076233\n",
      "Epoch 25, Loss: 0.17551130056381226\n",
      "Epoch 26, Loss: 0.17187584936618805\n",
      "Epoch 27, Loss: 0.16846083104610443\n",
      "Epoch 28, Loss: 0.16514718532562256\n",
      "Epoch 29, Loss: 0.16192616522312164\n",
      "Epoch 30, Loss: 0.15891607105731964\n",
      "Epoch 31, Loss: 0.15595833957195282\n",
      "Epoch 32, Loss: 0.1531354933977127\n",
      "Epoch 33, Loss: 0.15049205720424652\n",
      "Epoch 34, Loss: 0.1479874551296234\n",
      "Epoch 35, Loss: 0.1453656405210495\n",
      "Epoch 36, Loss: 0.1428796797990799\n",
      "Epoch 37, Loss: 0.14073586463928223\n",
      "Epoch 38, Loss: 0.138440802693367\n",
      "Epoch 39, Loss: 0.1363338977098465\n",
      "Epoch 40, Loss: 0.13441875576972961\n",
      "Epoch 41, Loss: 0.13220945000648499\n",
      "Epoch 42, Loss: 0.13037727773189545\n",
      "Epoch 43, Loss: 0.12861371040344238\n",
      "Epoch 44, Loss: 0.12677939236164093\n",
      "Epoch 45, Loss: 0.12522682547569275\n",
      "Epoch 46, Loss: 0.12360536307096481\n",
      "Epoch 47, Loss: 0.1221190094947815\n",
      "Epoch 48, Loss: 0.12060791254043579\n",
      "Epoch 49, Loss: 0.119151771068573\n",
      "Epoch 50, Loss: 0.11776167154312134\n",
      "Epoch 51, Loss: 0.11647427082061768\n",
      "Epoch 52, Loss: 0.1151510700583458\n",
      "Epoch 53, Loss: 0.11390596628189087\n",
      "Epoch 54, Loss: 0.11282503604888916\n",
      "Epoch 55, Loss: 0.11161427199840546\n",
      "Epoch 56, Loss: 0.11056770384311676\n",
      "Epoch 57, Loss: 0.10953061282634735\n",
      "Epoch 58, Loss: 0.10861125588417053\n",
      "Epoch 59, Loss: 0.10755155235528946\n",
      "Epoch 60, Loss: 0.10673822462558746\n",
      "Epoch 61, Loss: 0.10576191544532776\n",
      "Epoch 62, Loss: 0.10498770326375961\n",
      "Epoch 63, Loss: 0.10411540418863297\n",
      "Epoch 64, Loss: 0.10329542309045792\n",
      "Epoch 65, Loss: 0.10273125022649765\n",
      "Epoch 66, Loss: 0.10179045051336288\n",
      "Epoch 67, Loss: 0.10117262601852417\n",
      "Epoch 68, Loss: 0.10044349730014801\n",
      "Epoch 69, Loss: 0.09979183971881866\n",
      "Epoch 70, Loss: 0.09930569678544998\n",
      "Epoch 71, Loss: 0.09872946888208389\n",
      "Epoch 72, Loss: 0.0980796292424202\n",
      "Epoch 73, Loss: 0.09751122444868088\n",
      "Epoch 74, Loss: 0.09693773090839386\n",
      "Epoch 75, Loss: 0.09653519093990326\n",
      "Epoch 76, Loss: 0.09604665637016296\n",
      "Epoch 77, Loss: 0.09552749246358871\n",
      "Epoch 78, Loss: 0.0950697660446167\n",
      "Epoch 79, Loss: 0.09461551159620285\n",
      "Epoch 80, Loss: 0.09423822909593582\n",
      "Epoch 81, Loss: 0.09385369718074799\n",
      "Epoch 82, Loss: 0.09340444952249527\n",
      "Epoch 83, Loss: 0.09308154135942459\n",
      "Epoch 84, Loss: 0.0927763283252716\n",
      "Epoch 85, Loss: 0.0923708900809288\n",
      "Epoch 86, Loss: 0.09203100204467773\n",
      "Epoch 87, Loss: 0.09182900190353394\n",
      "Epoch 88, Loss: 0.09150135517120361\n",
      "Epoch 89, Loss: 0.09120921790599823\n",
      "Epoch 90, Loss: 0.09094438701868057\n",
      "Epoch 91, Loss: 0.09065574407577515\n",
      "Epoch 92, Loss: 0.0903611034154892\n",
      "Epoch 93, Loss: 0.09020145982503891\n",
      "Epoch 94, Loss: 0.08995884656906128\n",
      "Epoch 95, Loss: 0.08962740004062653\n",
      "Epoch 96, Loss: 0.08938901126384735\n",
      "Epoch 97, Loss: 0.08920620381832123\n",
      "Epoch 98, Loss: 0.08907236903905869\n",
      "Epoch 99, Loss: 0.08885759860277176\n",
      "Epoch 100, Loss: 0.08860727399587631\n",
      "Epoch 101, Loss: 0.08852017670869827\n",
      "Epoch 102, Loss: 0.08828530460596085\n",
      "Epoch 103, Loss: 0.08820527791976929\n",
      "Epoch 104, Loss: 0.08794936537742615\n",
      "Epoch 105, Loss: 0.0878838524222374\n",
      "Epoch 106, Loss: 0.08766496181488037\n",
      "Epoch 107, Loss: 0.08756066858768463\n",
      "Epoch 108, Loss: 0.08736268430948257\n",
      "Epoch 109, Loss: 0.08725295215845108\n",
      "Epoch 110, Loss: 0.0871693566441536\n",
      "Epoch 111, Loss: 0.08711244910955429\n",
      "Epoch 112, Loss: 0.08693114668130875\n",
      "Epoch 113, Loss: 0.08679025620222092\n",
      "Epoch 114, Loss: 0.08672989904880524\n",
      "Epoch 115, Loss: 0.08667058497667313\n",
      "Epoch 116, Loss: 0.08646821975708008\n",
      "Epoch 117, Loss: 0.08641062676906586\n",
      "Epoch 118, Loss: 0.0863460823893547\n",
      "Epoch 119, Loss: 0.08624740689992905\n",
      "Epoch 120, Loss: 0.08616484701633453\n",
      "Epoch 121, Loss: 0.08610760420560837\n",
      "Epoch 122, Loss: 0.08607599884271622\n",
      "Epoch 123, Loss: 0.08590354770421982\n",
      "Epoch 124, Loss: 0.08583557605743408\n",
      "Epoch 125, Loss: 0.08579424023628235\n",
      "Epoch 126, Loss: 0.08571627736091614\n",
      "Epoch 127, Loss: 0.08567383885383606\n",
      "Epoch 128, Loss: 0.0855996385216713\n",
      "Epoch 129, Loss: 0.085524782538414\n",
      "Epoch 130, Loss: 0.08547092229127884\n",
      "Epoch 131, Loss: 0.08539130538702011\n",
      "Epoch 132, Loss: 0.08534225821495056\n",
      "Epoch 133, Loss: 0.08530494570732117\n",
      "Epoch 134, Loss: 0.08531169593334198\n",
      "Epoch 135, Loss: 0.0852501317858696\n",
      "Epoch 136, Loss: 0.08521727472543716\n",
      "Epoch 137, Loss: 0.08516134321689606\n",
      "Epoch 138, Loss: 0.08520224690437317\n",
      "Epoch 139, Loss: 0.08509980142116547\n",
      "Epoch 140, Loss: 0.08500175178050995\n",
      "Epoch 141, Loss: 0.08500470966100693\n",
      "Epoch 142, Loss: 0.08500716835260391\n",
      "Epoch 143, Loss: 0.08492394536733627\n",
      "Epoch 144, Loss: 0.08483647555112839\n",
      "Epoch 145, Loss: 0.08481612801551819\n",
      "Epoch 146, Loss: 0.08486053347587585\n",
      "Epoch 147, Loss: 0.08476972579956055\n",
      "Epoch 148, Loss: 0.08474897593259811\n",
      "Epoch 149, Loss: 0.08477310836315155\n",
      "Epoch 150, Loss: 0.08472535759210587\n",
      "Epoch 151, Loss: 0.08476895838975906\n",
      "Epoch 152, Loss: 0.08471759408712387\n",
      "Epoch 153, Loss: 0.08470788598060608\n",
      "Epoch 154, Loss: 0.08465012162923813\n",
      "Epoch 155, Loss: 0.08469431847333908\n",
      "Epoch 156, Loss: 0.08459389209747314\n",
      "Epoch 157, Loss: 0.08463270217180252\n",
      "Epoch 158, Loss: 0.0846104845404625\n",
      "Epoch 159, Loss: 0.08461883664131165\n",
      "Epoch 160, Loss: 0.08456014096736908\n",
      "Epoch 161, Loss: 0.08448043465614319\n",
      "Epoch 162, Loss: 0.08457942306995392\n",
      "Epoch 163, Loss: 0.08450905233621597\n",
      "Epoch 164, Loss: 0.08446966111660004\n",
      "Epoch 165, Loss: 0.0845375582575798\n",
      "Epoch 166, Loss: 0.08450055867433548\n",
      "Epoch 167, Loss: 0.08442356437444687\n",
      "Epoch 168, Loss: 0.08440791070461273\n",
      "Epoch 169, Loss: 0.08439699560403824\n",
      "Epoch 170, Loss: 0.08435483276844025\n",
      "Epoch 171, Loss: 0.08440215140581131\n",
      "Epoch 172, Loss: 0.08438140898942947\n",
      "Epoch 173, Loss: 0.08434426039457321\n",
      "Epoch 174, Loss: 0.08431047946214676\n",
      "Epoch 175, Loss: 0.08435400575399399\n",
      "Epoch 176, Loss: 0.08436974883079529\n",
      "Epoch 177, Loss: 0.08435016125440598\n",
      "Epoch 178, Loss: 0.08430967479944229\n",
      "Epoch 179, Loss: 0.08435842394828796\n",
      "Epoch 180, Loss: 0.08425858616828918\n",
      "Epoch 181, Loss: 0.08434354513883591\n",
      "Epoch 182, Loss: 0.08438882231712341\n",
      "Epoch 183, Loss: 0.08424945920705795\n",
      "Epoch 184, Loss: 0.08433813601732254\n",
      "Epoch 185, Loss: 0.08432014286518097\n",
      "Epoch 186, Loss: 0.08425507694482803\n",
      "Epoch 187, Loss: 0.0842907726764679\n",
      "Epoch 188, Loss: 0.08425850421190262\n",
      "Epoch 189, Loss: 0.08419539779424667\n",
      "Epoch 190, Loss: 0.08428002893924713\n",
      "Epoch 191, Loss: 0.08427052944898605\n",
      "Epoch 192, Loss: 0.08426594734191895\n",
      "Epoch 193, Loss: 0.08422020822763443\n",
      "Epoch 194, Loss: 0.08422805368900299\n",
      "Epoch 195, Loss: 0.08421631157398224\n",
      "Epoch 196, Loss: 0.08420996367931366\n",
      "Epoch 197, Loss: 0.0842021107673645\n",
      "Epoch 198, Loss: 0.08422188460826874\n",
      "Epoch 199, Loss: 0.0842386931180954\n",
      "Epoch 200, Loss: 0.08420906960964203\n",
      "Epoch 201, Loss: 0.08421098440885544\n",
      "Epoch 202, Loss: 0.08419972658157349\n",
      "Epoch 203, Loss: 0.08420875668525696\n",
      "Epoch 204, Loss: 0.08419495820999146\n",
      "Epoch 205, Loss: 0.08414392173290253\n",
      "Epoch 206, Loss: 0.08417239040136337\n",
      "Epoch 207, Loss: 0.08414161950349808\n",
      "Epoch 208, Loss: 0.0841505229473114\n",
      "Epoch 209, Loss: 0.08410738408565521\n",
      "Epoch 210, Loss: 0.08417560905218124\n",
      "Epoch 211, Loss: 0.08420981466770172\n",
      "Epoch 212, Loss: 0.08418303728103638\n",
      "Epoch 213, Loss: 0.08415403962135315\n",
      "Epoch 214, Loss: 0.08423026651144028\n",
      "Epoch 215, Loss: 0.08414723724126816\n",
      "Epoch 216, Loss: 0.08416076749563217\n",
      "Epoch 217, Loss: 0.0841001346707344\n",
      "Epoch 218, Loss: 0.08412893116474152\n",
      "Epoch 219, Loss: 0.08416304737329483\n",
      "Epoch 220, Loss: 0.08416780829429626\n",
      "Epoch 221, Loss: 0.08419659733772278\n",
      "Epoch 222, Loss: 0.0841648280620575\n",
      "Epoch 223, Loss: 0.08412913233041763\n",
      "Epoch 224, Loss: 0.08418452739715576\n",
      "Epoch 225, Loss: 0.08414754271507263\n"
     ]
    },
    {
     "name": "stdout",
     "output_type": "stream",
     "text": [
      "Epoch 226, Loss: 0.08413858711719513\n",
      "Epoch 227, Loss: 0.08414092659950256\n",
      "Epoch 228, Loss: 0.08414514362812042\n",
      "Epoch 229, Loss: 0.08418183028697968\n",
      "Epoch 230, Loss: 0.08415406942367554\n",
      "Epoch 231, Loss: 0.08408951014280319\n",
      "Epoch 232, Loss: 0.08414295315742493\n",
      "Epoch 233, Loss: 0.08405866473913193\n",
      "Epoch 234, Loss: 0.08413111418485641\n",
      "Epoch 235, Loss: 0.08417192846536636\n",
      "Epoch 236, Loss: 0.0841331034898758\n",
      "Epoch 237, Loss: 0.08411905169487\n",
      "Epoch 238, Loss: 0.08415792882442474\n",
      "Epoch 239, Loss: 0.08409401774406433\n",
      "Epoch 240, Loss: 0.08414451777935028\n",
      "Epoch 241, Loss: 0.08420570939779282\n",
      "Epoch 242, Loss: 0.08419247716665268\n",
      "Epoch 243, Loss: 0.08415255695581436\n",
      "Epoch 244, Loss: 0.08412906527519226\n",
      "Epoch 245, Loss: 0.08417452126741409\n",
      "Epoch 246, Loss: 0.08412989974021912\n",
      "Epoch 247, Loss: 0.08412336558103561\n",
      "Epoch 248, Loss: 0.08418925851583481\n",
      "Epoch 249, Loss: 0.08416500687599182\n",
      "Epoch 250, Loss: 0.08410780131816864\n",
      "Epoch 251, Loss: 0.0841466635465622\n",
      "Epoch 252, Loss: 0.08414050936698914\n",
      "Epoch 253, Loss: 0.08407469093799591\n",
      "Epoch 254, Loss: 0.08415263891220093\n",
      "Epoch 255, Loss: 0.08411004394292831\n",
      "Epoch 256, Loss: 0.08412384241819382\n",
      "Epoch 257, Loss: 0.08413790911436081\n",
      "Epoch 258, Loss: 0.08416265994310379\n",
      "Epoch 259, Loss: 0.08413319289684296\n",
      "Epoch 260, Loss: 0.08410541713237762\n",
      "Epoch 261, Loss: 0.0841660276055336\n",
      "Epoch 262, Loss: 0.08411697298288345\n",
      "Epoch 263, Loss: 0.08406321704387665\n",
      "Epoch 264, Loss: 0.08424640446901321\n",
      "Epoch 265, Loss: 0.08412083983421326\n",
      "Epoch 266, Loss: 0.08415423333644867\n",
      "Epoch 267, Loss: 0.08411112427711487\n",
      "Epoch 268, Loss: 0.0841006487607956\n",
      "Epoch 269, Loss: 0.0841219499707222\n",
      "Epoch 270, Loss: 0.08412335067987442\n",
      "Epoch 271, Loss: 0.08406537771224976\n",
      "Epoch 272, Loss: 0.08415057510137558\n",
      "Epoch 273, Loss: 0.08413966745138168\n",
      "Epoch 274, Loss: 0.08415573090314865\n",
      "Epoch 275, Loss: 0.08416999131441116\n",
      "Epoch 276, Loss: 0.0841587707400322\n",
      "Epoch 277, Loss: 0.08418703079223633\n",
      "Epoch 278, Loss: 0.08414814621210098\n",
      "Epoch 279, Loss: 0.08411212265491486\n",
      "Epoch 280, Loss: 0.0841798335313797\n",
      "Epoch 281, Loss: 0.0841502919793129\n",
      "Epoch 282, Loss: 0.08411967009305954\n",
      "Epoch 283, Loss: 0.08410390466451645\n",
      "Epoch 284, Loss: 0.08407716453075409\n",
      "Epoch 285, Loss: 0.08414433151483536\n",
      "Epoch 286, Loss: 0.08413336426019669\n",
      "Epoch 287, Loss: 0.08414503931999207\n",
      "Epoch 288, Loss: 0.08413621783256531\n",
      "Epoch 289, Loss: 0.08418048173189163\n",
      "Epoch 290, Loss: 0.08416048437356949\n",
      "Epoch 291, Loss: 0.08419415354728699\n",
      "Epoch 292, Loss: 0.08419737964868546\n",
      "Epoch 293, Loss: 0.0841592401266098\n",
      "Epoch 294, Loss: 0.08415115624666214\n",
      "Epoch 295, Loss: 0.08411576598882675\n",
      "Epoch 296, Loss: 0.08416421711444855\n",
      "Epoch 297, Loss: 0.0841476246714592\n",
      "Epoch 298, Loss: 0.084172323346138\n",
      "Epoch 299, Loss: 0.08409121632575989\n",
      "Epoch 300, Loss: 0.08414754271507263\n",
      "Epoch 301, Loss: 0.08407473564147949\n",
      "Epoch 302, Loss: 0.08412802219390869\n",
      "Epoch 303, Loss: 0.08409597724676132\n",
      "Epoch 304, Loss: 0.08411899209022522\n",
      "Epoch 305, Loss: 0.08415421098470688\n",
      "Epoch 306, Loss: 0.08412022888660431\n",
      "Epoch 307, Loss: 0.0840909406542778\n",
      "Epoch 308, Loss: 0.08407407253980637\n",
      "Epoch 309, Loss: 0.08409637212753296\n",
      "Epoch 310, Loss: 0.08414731174707413\n",
      "Epoch 311, Loss: 0.08412965387105942\n",
      "Epoch 312, Loss: 0.08412886410951614\n",
      "Epoch 313, Loss: 0.08420178294181824\n",
      "Epoch 314, Loss: 0.0841469019651413\n",
      "Epoch 315, Loss: 0.08411562442779541\n",
      "Epoch 316, Loss: 0.08412469923496246\n",
      "Epoch 317, Loss: 0.08414512127637863\n",
      "Epoch 318, Loss: 0.08408407121896744\n",
      "Epoch 319, Loss: 0.0842089056968689\n",
      "Epoch 320, Loss: 0.08409011363983154\n",
      "Epoch 321, Loss: 0.08417309075593948\n",
      "Epoch 322, Loss: 0.08411221206188202\n",
      "Epoch 323, Loss: 0.08407244086265564\n",
      "Epoch 324, Loss: 0.08407815545797348\n",
      "Epoch 325, Loss: 0.08413927257061005\n",
      "Epoch 326, Loss: 0.08413548767566681\n",
      "Epoch 327, Loss: 0.08415932953357697\n",
      "Epoch 328, Loss: 0.08417082577943802\n",
      "Epoch 329, Loss: 0.08411840349435806\n",
      "Epoch 330, Loss: 0.08418560773134232\n",
      "Epoch 331, Loss: 0.08412450551986694\n",
      "Epoch 332, Loss: 0.08417242020368576\n",
      "Epoch 333, Loss: 0.0841110423207283\n",
      "Epoch 334, Loss: 0.08413044363260269\n",
      "Epoch 335, Loss: 0.08412281423807144\n",
      "Epoch 336, Loss: 0.08413137495517731\n",
      "Epoch 337, Loss: 0.08412491530179977\n",
      "Epoch 338, Loss: 0.08411287516355515\n",
      "Epoch 339, Loss: 0.08408378064632416\n",
      "Epoch 340, Loss: 0.08409763127565384\n",
      "Epoch 341, Loss: 0.08407805860042572\n",
      "Epoch 342, Loss: 0.08411118388175964\n",
      "Epoch 343, Loss: 0.08418945968151093\n",
      "Epoch 344, Loss: 0.08419150114059448\n",
      "Epoch 345, Loss: 0.08413776010274887\n",
      "Epoch 346, Loss: 0.0842299684882164\n",
      "Epoch 347, Loss: 0.08414734154939651\n",
      "Epoch 348, Loss: 0.084140345454216\n",
      "Epoch 349, Loss: 0.08413851261138916\n",
      "Epoch 350, Loss: 0.08413330465555191\n",
      "Epoch 351, Loss: 0.08414255827665329\n",
      "Epoch 352, Loss: 0.084109365940094\n",
      "Epoch 353, Loss: 0.08416518568992615\n",
      "Epoch 354, Loss: 0.08411760628223419\n",
      "Epoch 355, Loss: 0.08411014080047607\n",
      "Epoch 356, Loss: 0.08419961482286453\n",
      "Epoch 357, Loss: 0.08419957011938095\n",
      "Epoch 358, Loss: 0.08414414525032043\n",
      "Epoch 359, Loss: 0.08413325995206833\n",
      "Epoch 360, Loss: 0.08414923399686813\n",
      "Epoch 361, Loss: 0.08409185707569122\n",
      "Epoch 362, Loss: 0.0840747281908989\n",
      "Epoch 363, Loss: 0.08415134251117706\n",
      "Epoch 364, Loss: 0.08409778773784637\n",
      "Epoch 365, Loss: 0.08416156470775604\n",
      "Epoch 366, Loss: 0.08416201919317245\n",
      "Epoch 367, Loss: 0.08411816507577896\n",
      "Epoch 368, Loss: 0.08416483551263809\n",
      "Epoch 369, Loss: 0.08410808444023132\n",
      "Epoch 370, Loss: 0.08412248641252518\n",
      "Epoch 371, Loss: 0.08409909904003143\n",
      "Epoch 372, Loss: 0.08407792448997498\n",
      "Epoch 373, Loss: 0.08413264900445938\n",
      "Epoch 374, Loss: 0.08409923315048218\n",
      "Epoch 375, Loss: 0.08418551087379456\n",
      "Epoch 376, Loss: 0.08415989577770233\n",
      "Epoch 377, Loss: 0.08418763428926468\n",
      "Epoch 378, Loss: 0.0841061994433403\n",
      "Epoch 379, Loss: 0.08412138372659683\n",
      "Epoch 380, Loss: 0.08417361974716187\n",
      "Epoch 381, Loss: 0.0840987041592598\n",
      "Epoch 382, Loss: 0.08414154499769211\n",
      "Epoch 383, Loss: 0.08413855731487274\n",
      "Epoch 384, Loss: 0.08415105193853378\n",
      "Epoch 385, Loss: 0.08412452787160873\n",
      "Epoch 386, Loss: 0.08406566828489304\n",
      "Epoch 387, Loss: 0.08406174927949905\n",
      "Epoch 388, Loss: 0.08410578966140747\n",
      "Epoch 389, Loss: 0.08411148935556412\n",
      "Epoch 390, Loss: 0.08406837284564972\n",
      "Epoch 391, Loss: 0.0840812548995018\n",
      "Epoch 392, Loss: 0.08412149548530579\n",
      "Epoch 393, Loss: 0.08415045589208603\n",
      "Epoch 394, Loss: 0.08408325910568237\n",
      "Epoch 395, Loss: 0.08415888994932175\n",
      "Epoch 396, Loss: 0.08417771011590958\n",
      "Epoch 397, Loss: 0.08415979146957397\n",
      "Epoch 398, Loss: 0.08409029245376587\n",
      "Epoch 399, Loss: 0.08412611484527588\n",
      "Epoch 400, Loss: 0.08411341905593872\n",
      "Epoch 401, Loss: 0.08405711501836777\n",
      "Epoch 402, Loss: 0.08419237285852432\n",
      "Epoch 403, Loss: 0.08418037742376328\n",
      "Epoch 404, Loss: 0.08408795297145844\n",
      "Epoch 405, Loss: 0.0841924250125885\n",
      "Epoch 406, Loss: 0.08411437273025513\n",
      "Epoch 407, Loss: 0.0841434895992279\n",
      "Epoch 408, Loss: 0.08413312584161758\n",
      "Epoch 409, Loss: 0.08409379422664642\n",
      "Epoch 410, Loss: 0.0841103345155716\n",
      "Epoch 411, Loss: 0.08408352732658386\n",
      "Epoch 412, Loss: 0.08410706371068954\n",
      "Epoch 413, Loss: 0.08415880054235458\n",
      "Epoch 414, Loss: 0.08414900302886963\n",
      "Epoch 415, Loss: 0.08409483730792999\n",
      "Epoch 416, Loss: 0.08411042392253876\n",
      "Epoch 417, Loss: 0.08416392654180527\n",
      "Epoch 418, Loss: 0.08416423201560974\n",
      "Epoch 419, Loss: 0.08415696024894714\n",
      "Epoch 420, Loss: 0.08411847800016403\n",
      "Epoch 421, Loss: 0.08411577343940735\n",
      "Epoch 422, Loss: 0.0841868594288826\n",
      "Epoch 423, Loss: 0.08412790298461914\n",
      "Epoch 424, Loss: 0.08414291590452194\n",
      "Epoch 425, Loss: 0.08411906659603119\n",
      "Epoch 426, Loss: 0.08411676436662674\n",
      "Epoch 427, Loss: 0.0841146931052208\n",
      "Epoch 428, Loss: 0.084145687520504\n",
      "Epoch 429, Loss: 0.08406566083431244\n",
      "Epoch 430, Loss: 0.08416475355625153\n",
      "Epoch 431, Loss: 0.08420395851135254\n",
      "Epoch 432, Loss: 0.08411648124456406\n",
      "Epoch 433, Loss: 0.08415262401103973\n",
      "Epoch 434, Loss: 0.08413475751876831\n",
      "Epoch 435, Loss: 0.08413489162921906\n",
      "Epoch 436, Loss: 0.08414769917726517\n",
      "Epoch 437, Loss: 0.08413058519363403\n",
      "Epoch 438, Loss: 0.08411376178264618\n",
      "Epoch 439, Loss: 0.08411657810211182\n",
      "Epoch 440, Loss: 0.08412438631057739\n",
      "Epoch 441, Loss: 0.08410713076591492\n",
      "Epoch 442, Loss: 0.0841517448425293\n",
      "Epoch 443, Loss: 0.08411629498004913\n",
      "Epoch 444, Loss: 0.08415985852479935\n",
      "Epoch 445, Loss: 0.08410909026861191\n",
      "Epoch 446, Loss: 0.08417719602584839\n",
      "Epoch 447, Loss: 0.08408316969871521\n",
      "Epoch 448, Loss: 0.08405011147260666\n",
      "Epoch 449, Loss: 0.08419890701770782\n"
     ]
    },
    {
     "name": "stdout",
     "output_type": "stream",
     "text": [
      "Epoch 450, Loss: 0.08409889042377472\n",
      "Epoch 451, Loss: 0.08411961048841476\n",
      "Epoch 452, Loss: 0.08407801389694214\n",
      "Epoch 453, Loss: 0.08407605439424515\n",
      "Epoch 454, Loss: 0.08413610607385635\n",
      "Epoch 455, Loss: 0.0841633677482605\n",
      "Epoch 456, Loss: 0.08409179747104645\n",
      "Epoch 457, Loss: 0.08414485305547714\n",
      "Epoch 458, Loss: 0.08410929143428802\n",
      "Epoch 459, Loss: 0.08415783196687698\n",
      "Epoch 460, Loss: 0.0841497927904129\n",
      "Epoch 461, Loss: 0.08412285149097443\n",
      "Epoch 462, Loss: 0.08415202796459198\n",
      "Epoch 463, Loss: 0.08417306840419769\n",
      "Epoch 464, Loss: 0.08412566035985947\n",
      "Epoch 465, Loss: 0.08412618935108185\n",
      "Epoch 466, Loss: 0.08413099497556686\n",
      "Epoch 467, Loss: 0.08413898944854736\n",
      "Epoch 468, Loss: 0.08411753177642822\n",
      "Epoch 469, Loss: 0.08416609466075897\n",
      "Epoch 470, Loss: 0.08413755148649216\n",
      "Epoch 471, Loss: 0.0841330885887146\n",
      "Epoch 472, Loss: 0.08418061584234238\n",
      "Epoch 473, Loss: 0.08409439027309418\n",
      "Epoch 474, Loss: 0.08410342037677765\n",
      "Epoch 475, Loss: 0.08414597809314728\n",
      "Epoch 476, Loss: 0.08417429774999619\n",
      "Epoch 477, Loss: 0.08406753093004227\n",
      "Epoch 478, Loss: 0.08411173522472382\n",
      "Epoch 479, Loss: 0.08413699269294739\n",
      "Epoch 480, Loss: 0.08412908762693405\n",
      "Epoch 481, Loss: 0.08412409573793411\n",
      "Epoch 482, Loss: 0.08414012938737869\n",
      "Epoch 483, Loss: 0.08418376743793488\n",
      "Epoch 484, Loss: 0.08408749848604202\n",
      "Epoch 485, Loss: 0.08411534130573273\n",
      "Epoch 486, Loss: 0.08413530141115189\n",
      "Epoch 487, Loss: 0.08410704135894775\n",
      "Epoch 488, Loss: 0.0841389000415802\n",
      "Epoch 489, Loss: 0.0841161459684372\n",
      "Epoch 490, Loss: 0.0840955525636673\n",
      "Epoch 491, Loss: 0.08415476977825165\n",
      "Epoch 492, Loss: 0.08413758873939514\n",
      "Epoch 493, Loss: 0.08410706371068954\n",
      "Epoch 494, Loss: 0.08413296937942505\n",
      "Epoch 495, Loss: 0.08412789553403854\n",
      "Epoch 496, Loss: 0.08404900133609772\n",
      "Epoch 497, Loss: 0.08410495519638062\n",
      "Epoch 498, Loss: 0.08412180095911026\n",
      "Epoch 499, Loss: 0.0840778574347496\n"
     ]
    }
   ],
   "source": [
    "model = GAT().to(device)\n",
    "optimizer = torch.optim.SGD(model.parameters(), lr=0.001)\n",
    "\n",
    "# Define the loss function\n",
    "criterion = torch.nn.MSELoss()\n",
    "\n",
    "# Define the training loop\n",
    "def train(model, data, optimizer, criterion, device):\n",
    "    model.train()\n",
    "\n",
    "    # Move the data to the device\n",
    "    data = data.to(device)\n",
    "\n",
    "    # Zero the gradients\n",
    "    optimizer.zero_grad()\n",
    "\n",
    "    # Compute the model output\n",
    "    out = model(data.x, data.edge_index)\n",
    "\n",
    "    # Compute the loss\n",
    "    loss = criterion(out, data.y)\n",
    "\n",
    "    # Backpropagate the gradients\n",
    "    loss.backward()\n",
    "    optimizer.step()\n",
    "\n",
    "    return loss.item()\n",
    "\n",
    "# Train the model\n",
    "loss_list = []\n",
    "for epoch in range(500):\n",
    "    loss = train(model, data, optimizer, criterion, device)\n",
    "    loss_list.append(loss)\n",
    "    print('Epoch {}, Loss: {}'.format(epoch, loss))"
   ]
  },
  {
   "cell_type": "code",
   "execution_count": 20,
   "id": "80e770f1",
   "metadata": {
    "scrolled": false
   },
   "outputs": [
    {
     "data": {
      "image/png": "[encoded data removed]",
      "text/plain": [
       "<Figure size 640x480 with 1 Axes>"
      ]
     },
     "metadata": {},
     "output_type": "display_data"
    }
   ],
   "source": [
    "plt.figure(1)\n",
    "plt.plot(loss_list, label = 'train loss')\n",
    "plt.xlabel('# iteration')\n",
    "plt.ylabel('loss (mean squared error)')\n",
    "plt.yscale('log')\n",
    "plt.title('Train loss')\n",
    "plt.savefig('GNN_mfem_loss.png')\n",
    "plt.show()"
   ]
  },
  {
   "cell_type": "code",
   "execution_count": 21,
   "id": "e7a4a865",
   "metadata": {},
   "outputs": [
    {
     "data": {
      "text/plain": [
       "tensor([[    1,     1,     1,  ..., 36864, 36864, 36864],\n",
       "        [    1,     2,     3,  ..., 36862, 36863, 36864]], device='cuda:0')"
      ]
     },
     "execution_count": 21,
     "metadata": {},
     "output_type": "execute_result"
    }
   ],
   "source": [
    "data.edge_index"
   ]
  },
  {
   "cell_type": "code",
   "execution_count": 22,
   "id": "50d9b440",
   "metadata": {},
   "outputs": [],
   "source": [
    "# Compute predicted u and residual error\n",
    "model.eval()\n",
    "u_GNN = model(data.x, data.edge_index)"
   ]
  },
  {
   "cell_type": "markdown",
   "id": "0a912a74",
   "metadata": {},
   "source": [
    "## Compare solutions from GMRES and GCN"
   ]
  },
  {
   "cell_type": "code",
   "execution_count": 23,
   "id": "980d637d",
   "metadata": {},
   "outputs": [
    {
     "data": {
      "text/plain": [
       "tensor([[0.6785],\n",
       "        [0.3946],\n",
       "        [0.6953],\n",
       "        ...,\n",
       "        [0.9241],\n",
       "        [0.3689],\n",
       "        [0.6950]])"
      ]
     },
     "execution_count": 23,
     "metadata": {},
     "output_type": "execute_result"
    }
   ],
   "source": [
    "u"
   ]
  },
  {
   "cell_type": "code",
   "execution_count": 24,
   "id": "e78caaa1",
   "metadata": {},
   "outputs": [
    {
     "data": {
      "text/plain": [
       "tensor([[0.4999],\n",
       "        [0.4999],\n",
       "        [0.4999],\n",
       "        ...,\n",
       "        [0.4999],\n",
       "        [0.4999],\n",
       "        [0.4999]], device='cuda:0', grad_fn=<AddBackward0>)"
      ]
     },
     "execution_count": 24,
     "metadata": {},
     "output_type": "execute_result"
    }
   ],
   "source": [
    "u_GNN"
   ]
  },
  {
   "cell_type": "code",
   "execution_count": 25,
   "id": "e0ad2b44",
   "metadata": {},
   "outputs": [
    {
     "data": {
      "text/plain": [
       "array([[0.        ],\n",
       "       [0.39458645],\n",
       "       [0.69525571],\n",
       "       ...,\n",
       "       [0.92412876],\n",
       "       [0.36887018],\n",
       "       [0.69503202]])"
      ]
     },
     "execution_count": 25,
     "metadata": {},
     "output_type": "execute_result"
    }
   ],
   "source": [
    "u_gmres.reshape(-1,1)"
   ]
  },
  {
   "cell_type": "markdown",
   "id": "4e7c5f1f",
   "metadata": {},
   "source": [
    "# Residual Error \n",
    "\n",
    "The residual error can be interpreted as the sum of the squared distances between the predicted values Au and the true values b. It is a measure of how well the solution u fits the original matrix equation Au = b. A lower residual error indicates a better fit of the solution to the equation.\n",
    "\n",
    "\\begin{equation}\n",
    "error = \\sqrt{\\sum(||Au - b||^{2})}\n",
    "\\end{equation}"
   ]
  },
  {
   "cell_type": "code",
   "execution_count": 26,
   "id": "5af50a98",
   "metadata": {},
   "outputs": [
    {
     "data": {
      "text/plain": [
       "tensor([[ 0.0000],\n",
       "        [-1.4893],\n",
       "        [-0.6405],\n",
       "        ...,\n",
       "        [-0.6406],\n",
       "        [-0.6405],\n",
       "        [-1.4893]], device='cuda:0', grad_fn=<SubBackward0>)"
      ]
     },
     "execution_count": 26,
     "metadata": {},
     "output_type": "execute_result"
    }
   ],
   "source": [
    "residual = (torch.mm(A.to(device), u_GNN) - b.to(device))\n",
    "residual"
   ]
  },
  {
   "cell_type": "code",
   "execution_count": 27,
   "id": "2d00325e",
   "metadata": {},
   "outputs": [
    {
     "name": "stdout",
     "output_type": "stream",
     "text": [
      "Residual error is: 257.71331787109375\n"
     ]
    }
   ],
   "source": [
    "residual_error = torch.sqrt(torch.sum(torch.abs(torch.mm(A.to(device), u_GNN) - b.to(device))))\n",
    "print(f'Residual error is: {residual_error}')"
   ]
  }
 ],
 "metadata": {
  "kernelspec": {
   "display_name": "Python 3 (ipykernel)",
   "language": "python",
   "name": "python3"
  },
  "language_info": {
   "codemirror_mode": {
    "name": "ipython",
    "version": 3
   },
   "file_extension": ".py",
   "mimetype": "text/x-python",
   "name": "python",
   "nbconvert_exporter": "python",
   "pygments_lexer": "ipython3",
   "version": "3.8.16"
  }
 },
 "nbformat": 4,
 "nbformat_minor": 5
}
