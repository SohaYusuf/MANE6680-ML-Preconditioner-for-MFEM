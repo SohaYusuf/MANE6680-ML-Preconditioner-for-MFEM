{
 "cells": [
  {
   "cell_type": "markdown",
   "id": "3c9cfc6a",
   "metadata": {},
   "source": [
    "## Construct sparse matrix A and save in a text file using ex9 of MFEM"
   ]
  },
  {
   "cell_type": "markdown",
   "id": "b6940e6c",
   "metadata": {},
   "source": [
    "Time dependent linear advection equation is:\n",
    "\n",
    "\\begin{equation}\n",
    "\\frac{\\partial{u}}{\\partial{t}} + v.{\\nabla{u}} = 0\n",
    "\\end{equation}\n",
    "\n",
    "Use discontinuous galerikin discretization to construct mass matrix M and advection matrix K in MFEM. Use the equation below to construct A so that A x = b.\n",
    "\n",
    "\\begin{equation}\n",
    "A = M - (dt/2)*K\n",
    "\\end{equation}"
   ]
  },
  {
   "cell_type": "code",
   "execution_count": 1,
   "id": "6bd9d34c",
   "metadata": {},
   "outputs": [],
   "source": [
    "import numpy as np\n",
    "from scipy.sparse import coo_matrix"
   ]
  },
  {
   "cell_type": "markdown",
   "id": "cdaa99e5",
   "metadata": {},
   "source": [
    "## Construct mass matrix M"
   ]
  },
  {
   "cell_type": "code",
   "execution_count": 2,
   "id": "6aa53ff3",
   "metadata": {},
   "outputs": [
    {
     "name": "stdout",
     "output_type": "stream",
     "text": [
      "(36865, 36865)\n"
     ]
    }
   ],
   "source": [
    "# Load the data from the text file\n",
    "M_ex9 = np.loadtxt('M_ex9.txt')\n",
    "\n",
    "# Extract the row, column, and value arrays from the data\n",
    "row_M = M_ex9[:, 0].astype(int)\n",
    "col_M = M_ex9[:, 1].astype(int)\n",
    "val_M = M_ex9[:, 2]\n",
    "\n",
    "# Create the sparse matrix using COO format\n",
    "M = coo_matrix((val_M, (row_M, col_M)))\n",
    "\n",
    "print(M.shape)"
   ]
  },
  {
   "cell_type": "markdown",
   "id": "77b1edd3",
   "metadata": {},
   "source": [
    "## Construct advection matrix K"
   ]
  },
  {
   "cell_type": "code",
   "execution_count": 3,
   "id": "2d5344ed",
   "metadata": {},
   "outputs": [
    {
     "name": "stdout",
     "output_type": "stream",
     "text": [
      "(36865, 36865)\n"
     ]
    }
   ],
   "source": [
    "# Load the data from the text file\n",
    "K_ex9 = np.loadtxt('K_ex9.txt')\n",
    "\n",
    "# Extract the row, column, and value arrays from the data\n",
    "row_K = K_ex9[:, 0].astype(int)\n",
    "col_K = K_ex9[:, 1].astype(int)\n",
    "val_K = K_ex9[:, 2]\n",
    "\n",
    "# Create the sparse matrix using COO format\n",
    "K = coo_matrix((val_K, (row_K, col_K)))\n",
    "\n",
    "print(K.shape)"
   ]
  },
  {
   "cell_type": "markdown",
   "id": "3be1cd98",
   "metadata": {},
   "source": [
    "## Calculate sparse matrix A so that Ax=b"
   ]
  },
  {
   "cell_type": "code",
   "execution_count": 4,
   "id": "f5402310",
   "metadata": {},
   "outputs": [
    {
     "name": "stdout",
     "output_type": "stream",
     "text": [
      "(36865, 36865)\n"
     ]
    }
   ],
   "source": [
    "dt = 0.01\n",
    "A = coo_matrix(M - (dt/2)*K)\n",
    "\n",
    "print(A.shape)"
   ]
  },
  {
   "cell_type": "markdown",
   "id": "02894831",
   "metadata": {},
   "source": [
    "## Save matrix in a .txt file"
   ]
  },
  {
   "cell_type": "code",
   "execution_count": 5,
   "id": "0b8f5602",
   "metadata": {},
   "outputs": [
    {
     "name": "stdout",
     "output_type": "stream",
     "text": [
      "[[ 1.00000000e+00  1.00000000e+00  8.85771000e-06]\n",
      " [ 1.00000000e+00  2.00000000e+00  3.30107392e-06]\n",
      " [ 1.00000000e+00  3.00000000e+00 -3.30107304e-06]\n",
      " ...\n",
      " [ 3.68640000e+04  3.68620000e+04 -3.30054570e-06]\n",
      " [ 3.68640000e+04  3.68630000e+04  3.29985926e-06]\n",
      " [ 3.68640000e+04  3.68640000e+04  8.85827642e-06]]\n"
     ]
    }
   ],
   "source": [
    "# Save sparse matrix A to a text file\n",
    "np.savetxt(\"A_ex9.txt\", np.column_stack((A.row, A.col, A.data)))\n",
    "\n",
    "# Print the saved matrix for verification\n",
    "print(np.loadtxt(\"A_ex9.txt\", dtype=float))"
   ]
  }
 ],
 "metadata": {
  "kernelspec": {
   "display_name": "Python 3 (ipykernel)",
   "language": "python",
   "name": "python3"
  },
  "language_info": {
   "codemirror_mode": {
    "name": "ipython",
    "version": 3
   },
   "file_extension": ".py",
   "mimetype": "text/x-python",
   "name": "python",
   "nbconvert_exporter": "python",
   "pygments_lexer": "ipython3",
   "version": "3.7.16"
  }
 },
 "nbformat": 4,
 "nbformat_minor": 5
}
