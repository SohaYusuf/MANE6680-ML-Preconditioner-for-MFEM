{
 "cells": [
  {
   "cell_type": "markdown",
   "id": "d7d42d31",
   "metadata": {},
   "source": [
    "# Graph Neural Network to solve Au=b"
   ]
  },
  {
   "cell_type": "code",
   "execution_count": 1,
   "id": "4db24994",
   "metadata": {},
   "outputs": [
    {
     "name": "stderr",
     "output_type": "stream",
     "text": [
      "C:\\Users\\soha9\\anaconda3\\envs\\torch\\lib\\site-packages\\tqdm\\auto.py:22: TqdmWarning: IProgress not found. Please update jupyter and ipywidgets. See https://ipywidgets.readthedocs.io/en/stable/user_install.html\n",
      "  from .autonotebook import tqdm as notebook_tqdm\n"
     ]
    }
   ],
   "source": [
    "import torch\n",
    "import torch.nn as nn\n",
    "import torch.nn.functional as F\n",
    "import torch.optim as optim\n",
    "from torch_geometric.data import Data\n",
    "from torch_geometric.nn import GCNConv\n",
    "from torch_geometric.transforms import AddSelfLoops\n",
    "from torch_geometric.data import Data, DataLoader\n",
    "\n",
    "from scipy.sparse import coo_matrix, csr_matrix\n",
    "from torch_sparse import coalesce, SparseTensor\n",
    "from sklearn.model_selection import train_test_split\n",
    "\n",
    "import matplotlib.pyplot as plt\n",
    "import numpy as np"
   ]
  },
  {
   "cell_type": "code",
   "execution_count": 2,
   "id": "4bd3ac89",
   "metadata": {},
   "outputs": [],
   "source": [
    "device = torch.device('cuda' if torch.cuda.is_available() else 'cpu')"
   ]
  },
  {
   "cell_type": "markdown",
   "id": "78402dac",
   "metadata": {},
   "source": [
    "## Load data\n",
    "\n",
    "A:   m x n  \n",
    "\n",
    "b:   n x 1\n",
    "\n",
    "x:   m x 1"
   ]
  },
  {
   "cell_type": "code",
   "execution_count": 3,
   "id": "01ad10b8",
   "metadata": {},
   "outputs": [
    {
     "name": "stdout",
     "output_type": "stream",
     "text": [
      "A shape:  (36865, 36865)\n"
     ]
    }
   ],
   "source": [
    "#Load the data\n",
    "A_matrix_path = \"data/A_ex9.txt\"\n",
    "A_info = np.loadtxt(A_matrix_path)\n",
    "m, n = A_info.shape\n",
    "\n",
    "# Load u\n",
    "# u_vector_path = \"data/u_ex9.txt\"\n",
    "# u = np.loadtxt(u_vector_path)\n",
    "\n",
    "# Extract the row, column, and value arrays from the data\n",
    "row_A = A_info[:, 0].astype(int)\n",
    "col_A = A_info[:, 1].astype(int)\n",
    "val_A = A_info[:, 2]\n",
    "\n",
    "# Create the sparse matrix using COO format\n",
    "A_mfem = coo_matrix((val_A, (row_A, col_A)))\n",
    "\n",
    "print('A shape: ',A_mfem.shape)"
   ]
  },
  {
   "cell_type": "markdown",
   "id": "56cdf064",
   "metadata": {},
   "source": [
    "## Convert A from sparse to dense matrix"
   ]
  },
  {
   "cell_type": "code",
   "execution_count": 4,
   "id": "93f6bd6d",
   "metadata": {},
   "outputs": [
    {
     "name": "stdout",
     "output_type": "stream",
     "text": [
      "(36865, 36865)\n"
     ]
    }
   ],
   "source": [
    "# Convert the sparse matrix into a dense matrix and replace non-zero elements with 1\n",
    "dense_A_numpy = np.array(A_mfem.todense())\n",
    "adj_matrix_numpy = np.where(dense_A_numpy > 0, 1, 0)\n",
    "print(adj_matrix_numpy.shape)"
   ]
  },
  {
   "cell_type": "markdown",
   "id": "495ad450",
   "metadata": {},
   "source": [
    "## Convert numpy arrays to tensors"
   ]
  },
  {
   "cell_type": "code",
   "execution_count": 5,
   "id": "395bd9ac",
   "metadata": {},
   "outputs": [
    {
     "name": "stdout",
     "output_type": "stream",
     "text": [
      "Number of nodes:  36865\n",
      "A shape:  torch.Size([36865, 36865])\n",
      "Adjacency matrix shape:  torch.Size([36865, 36865])\n"
     ]
    }
   ],
   "source": [
    "A = torch.tensor(dense_A_numpy, dtype=torch.float)\n",
    "adj_matrix = torch.tensor(adj_matrix_numpy, dtype=torch.float)\n",
    "num_nodes = A.shape[0]\n",
    "\n",
    "print('Number of nodes: ', num_nodes)\n",
    "print('A shape: ', A.shape)\n",
    "print('Adjacency matrix shape: ', adj_matrix.shape)"
   ]
  },
  {
   "cell_type": "markdown",
   "id": "7b470661",
   "metadata": {},
   "source": [
    "## Form u and b"
   ]
  },
  {
   "cell_type": "code",
   "execution_count": 6,
   "id": "23157ed7",
   "metadata": {},
   "outputs": [
    {
     "name": "stdout",
     "output_type": "stream",
     "text": [
      "torch.Size([36865, 1])\n",
      "torch.Size([36865, 1])\n",
      "torch.Size([36865, 36865])\n"
     ]
    }
   ],
   "source": [
    "u = torch.rand([num_nodes,1],dtype=torch.float)\n",
    "b = torch.mm(A,u)\n",
    "\n",
    "# A = A.to(device)\n",
    "# b = b.to(device)\n",
    "# u = u.to(device)\n",
    "\n",
    "print(b.shape)\n",
    "print(u.shape)\n",
    "print(A.shape)"
   ]
  },
  {
   "cell_type": "code",
   "execution_count": 7,
   "id": "26e506b5",
   "metadata": {},
   "outputs": [
    {
     "data": {
      "text/plain": [
       "tensor([[ 0.0000e+00,  0.0000e+00,  0.0000e+00,  ...,  0.0000e+00,\n",
       "          0.0000e+00,  0.0000e+00],\n",
       "        [ 0.0000e+00,  8.8577e-06,  3.3011e-06,  ...,  0.0000e+00,\n",
       "          0.0000e+00,  0.0000e+00],\n",
       "        [ 0.0000e+00,  3.3011e-06,  4.4289e-05,  ...,  0.0000e+00,\n",
       "          0.0000e+00,  0.0000e+00],\n",
       "        ...,\n",
       "        [ 0.0000e+00,  0.0000e+00,  0.0000e+00,  ...,  4.4287e-05,\n",
       "          7.3828e-06, -3.3014e-06],\n",
       "        [ 0.0000e+00,  0.0000e+00,  0.0000e+00,  ...,  7.3796e-06,\n",
       "          4.4287e-05,  3.3021e-06],\n",
       "        [ 0.0000e+00,  0.0000e+00,  0.0000e+00,  ..., -3.3005e-06,\n",
       "          3.2999e-06,  8.8583e-06]])"
      ]
     },
     "execution_count": 7,
     "metadata": {},
     "output_type": "execute_result"
    }
   ],
   "source": [
    "A"
   ]
  },
  {
   "cell_type": "code",
   "execution_count": 8,
   "id": "e1032e99",
   "metadata": {},
   "outputs": [
    {
     "data": {
      "text/plain": [
       "tensor([[0.1145],\n",
       "        [0.9684],\n",
       "        [0.8208],\n",
       "        ...,\n",
       "        [0.5191],\n",
       "        [0.7002],\n",
       "        [0.5013]])"
      ]
     },
     "execution_count": 8,
     "metadata": {},
     "output_type": "execute_result"
    }
   ],
   "source": [
    "u"
   ]
  },
  {
   "cell_type": "code",
   "execution_count": 9,
   "id": "6fd2f5c6",
   "metadata": {},
   "outputs": [
    {
     "data": {
      "text/plain": [
       "tensor([[0.0000e+00],\n",
       "        [1.2807e-05],\n",
       "        [5.8830e-05],\n",
       "        ...,\n",
       "        [2.6729e-05],\n",
       "        [3.7688e-05],\n",
       "        [9.2794e-06]])"
      ]
     },
     "execution_count": 9,
     "metadata": {},
     "output_type": "execute_result"
    }
   ],
   "source": [
    "b"
   ]
  },
  {
   "cell_type": "code",
   "execution_count": 10,
   "id": "aedc1ee3",
   "metadata": {},
   "outputs": [],
   "source": [
    "# num_nodes = 50\n",
    "# A = torch.rand((num_nodes, num_nodes))\n",
    "# b = torch.rand((num_nodes, 1))\n",
    "# x = b.clone()\n",
    "\n",
    "# edge_index = torch.nonzero(A)\n",
    "# edge_attr = A[edge_index[:,0], edge_index[:,1]]\n",
    "\n",
    "#data = Data(x=x, edge_index=edge_index.t().contiguous(), edge_attr=edge_attr, num_nodes=A.shape[0])"
   ]
  },
  {
   "cell_type": "markdown",
   "id": "ec4ffe8a",
   "metadata": {},
   "source": [
    "## Edge Index\n",
    "\n",
    "In graph neural networks, edge_index is a commonly used term that refers to a matrix or tensor that represents the edges of a graph. It is a two-dimensional matrix with two rows, where each column represents an edge of the graph. The first row of the matrix contains the index of the source nodes of each edge, while the second row contains the index of the destination nodes.\n",
    "\n",
    "For example, let's say we have a simple undirected graph with 4 nodes and 3 edges, where the edges are (0,1), (1,2), and (2,3). We can represent this graph using the following edge_index matrix:\n",
    "\n",
    "```\n",
    "edge_index = [\n",
    "  [0, 1, 1, 2],\n",
    "  [1, 0, 2, 3]\n",
    "]\n",
    "```\n",
    "Here, the first row of edge_index represents the source nodes of each edge, and the second row represents the destination nodes. For example, the first edge (0,1) has source node 0 and destination node 1.\n",
    "\n",
    "The edge_index matrix is typically used in conjunction with node feature matrices to define the input to a graph neural network. The node feature matrix contains features for each node in the graph, while the edge_index matrix describes the edges that connect the nodes. By combining these two matrices, a graph neural network can learn to operate on the graph structure and its associated features."
   ]
  },
  {
   "cell_type": "markdown",
   "id": "c1f5d196",
   "metadata": {},
   "source": [
    "## Edge Weights\n",
    "\n",
    "In graph neural networks, edge_weights are values associated with the edges of a graph, which can be used to represent the strength, importance or similarity between connected nodes. edge_weights can be used in a variety of ways, such as during message passing, graph convolutions or pooling operations.\n",
    "\n",
    "edge_weights can be represented as a tensor or an array, with one value per edge. If the edges are unweighted, i.e., all edges are equally important, then the edge_weights can be represented as an array of ones. However, if the edges have different weights, then the edge_weights can be assigned accordingly."
   ]
  },
  {
   "cell_type": "code",
   "execution_count": 11,
   "id": "2a71fc73",
   "metadata": {
    "scrolled": true
   },
   "outputs": [],
   "source": [
    "# Create edge_index\n",
    "mask = A != 0  # Get a boolean mask of non-zero elements in A\n",
    "rows, cols = mask.nonzero(as_tuple=True)  # Get the row and column indices of non-zero elements\n",
    "edge_index = torch.stack([rows, cols], dim=0)\n",
    "\n",
    "# Create edge_weights\n",
    "edge_weights = A[mask]\n",
    "\n",
    "# Optionally add self-loops to the graph\n",
    "#edge_index, edge_weights = torch.nn.utils.clip_grad.clip_grad_norm_(edge_index, edge_weights)"
   ]
  },
  {
   "cell_type": "code",
   "execution_count": 12,
   "id": "977edfce",
   "metadata": {},
   "outputs": [
    {
     "name": "stdout",
     "output_type": "stream",
     "text": [
      "====== Edge Index =====\n",
      "edge_index shape:  torch.Size([2, 662016])\n",
      "tensor([[    1,     1,     1,  ..., 36864, 36864, 36864],\n",
      "        [    1,     2,     3,  ..., 36862, 36863, 36864]])\n",
      "====== Edge Weights =====\n",
      "edge_weights shape:  torch.Size([662016])\n",
      "tensor([ 8.8577e-06,  3.3011e-06, -3.3011e-06,  ..., -3.3005e-06,\n",
      "         3.2999e-06,  8.8583e-06])\n"
     ]
    }
   ],
   "source": [
    "print('====== Edge Index =====')\n",
    "print('edge_index shape: ',edge_index.shape)\n",
    "print(edge_index)\n",
    "print('====== Edge Weights =====')\n",
    "print('edge_weights shape: ',edge_weights.shape)\n",
    "print(edge_weights)"
   ]
  },
  {
   "cell_type": "markdown",
   "id": "6fc16410",
   "metadata": {},
   "source": [
    "## Actual Solution"
   ]
  },
  {
   "cell_type": "code",
   "execution_count": 13,
   "id": "949bb66a",
   "metadata": {
    "scrolled": true
   },
   "outputs": [],
   "source": [
    "# # Load u\n",
    "# u_vector_path = \"data/u_ex9.txt\"\n",
    "# u = np.loadtxt(u_vector_path)\n",
    "# u.shape"
   ]
  },
  {
   "cell_type": "markdown",
   "id": "70bb7e29",
   "metadata": {},
   "source": [
    "## Create data object for input to GNN\n",
    "\n",
    "The Data object has the following attributes:\n",
    "\n",
    "- **'x'**: a tensor of node features with shape **'[36865, 1]'**. This means there are 36865 nodes in the graph, each with 1 feature.\n",
    "- **'edge_index'**: a tensor of shape **'[2, 662016]'** representing the edge index of the graph. The first row contains the source nodes and the second row contains the destination nodes. There are 662016 edges in the graph.\n",
    "\n",
    "- **'edge_attr'**: a tensor of edge weights with shape **'[662016]'**. This means there is one weight for each edge in the graph.\n",
    "\n",
    "- **'num_nodes'**: an integer value of **36865** representing the total number of nodes in the graph."
   ]
  },
  {
   "cell_type": "code",
   "execution_count": 14,
   "id": "3c205fa1",
   "metadata": {},
   "outputs": [
    {
     "name": "stdout",
     "output_type": "stream",
     "text": [
      "Data(x=[36865, 1], edge_index=[2, 662016], edge_attr=[662016], y=[36865, 1], num_nodes=36865)\n"
     ]
    }
   ],
   "source": [
    "# Create a Data object from edge_index, edge_weights, and node features\n",
    "data = Data(x=b, edge_index=edge_index, edge_attr=edge_weights, num_nodes=num_nodes, y=u)\n",
    "data = data.to(device)\n",
    "\n",
    "# Print the Data object\n",
    "print(data)"
   ]
  },
  {
   "cell_type": "markdown",
   "id": "3f23229c",
   "metadata": {},
   "source": [
    "## Graph Neural Network model\n",
    "\n",
    "The given model is a graph convolutional network (GCN) that consists of 4 graph convolutional layers.\n",
    "\n",
    "- First layer, the model takes a feature vector of size 1 for each node and applies the GCNConv operation with 128 output channels. The output of this layer is then passed through a rectified linear unit (ReLU) activation function.\n",
    "\n",
    "- Last layer applies the GCNConv operation with a single output channel, which is the predicted value for each node.\n",
    "\n",
    "The model takes the input data **'x'** and **'edge_index'** and returns the predicted values for each node."
   ]
  },
  {
   "cell_type": "code",
   "execution_count": 15,
   "id": "2e76868d",
   "metadata": {},
   "outputs": [],
   "source": [
    "class GCN(torch.nn.Module):\n",
    "    def __init__(self):\n",
    "        super(GCN, self).__init__()\n",
    "        self.conv1 = GCNConv(1, 128)\n",
    "        self.conv2 = GCNConv(128, 64)\n",
    "        self.conv3 = GCNConv(64, 16)\n",
    "        self.conv4 = GCNConv(16, 1)\n",
    "\n",
    "    def forward(self, x, edge_index):\n",
    "        x = self.conv1(x, edge_index)\n",
    "        x = F.relu(x)\n",
    "        x = self.conv2(x, edge_index)\n",
    "        x = F.relu(x)\n",
    "        x = self.conv3(x, edge_index)\n",
    "        x = F.relu(x)\n",
    "        x = self.conv4(x, edge_index)\n",
    "        return x"
   ]
  },
  {
   "cell_type": "markdown",
   "id": "fda5d481",
   "metadata": {},
   "source": [
    "## Train Graph Convolutional Network"
   ]
  },
  {
   "cell_type": "code",
   "execution_count": 16,
   "id": "f440c255",
   "metadata": {
    "scrolled": true
   },
   "outputs": [
    {
     "name": "stdout",
     "output_type": "stream",
     "text": [
      "Epoch 0, Loss: 0.33537524938583374\n",
      "Epoch 1, Loss: 0.27730220556259155\n",
      "Epoch 2, Loss: 0.2060781568288803\n",
      "Epoch 3, Loss: 0.136366605758667\n",
      "Epoch 4, Loss: 0.08871687203645706\n",
      "Epoch 5, Loss: 0.10190088301897049\n",
      "Epoch 6, Loss: 0.13906723260879517\n",
      "Epoch 7, Loss: 0.13022533059120178\n",
      "Epoch 8, Loss: 0.10483704507350922\n",
      "Epoch 9, Loss: 0.08810605108737946\n",
      "Epoch 10, Loss: 0.08434795588254929\n",
      "Epoch 11, Loss: 0.0880516767501831\n",
      "Epoch 12, Loss: 0.093403659760952\n",
      "Epoch 13, Loss: 0.09726420044898987\n",
      "Epoch 14, Loss: 0.09811922162771225\n",
      "Epoch 15, Loss: 0.09646585583686829\n",
      "Epoch 16, Loss: 0.09315722435712814\n",
      "Epoch 17, Loss: 0.08927682042121887\n",
      "Epoch 18, Loss: 0.08598757535219193\n",
      "Epoch 19, Loss: 0.08430007845163345\n",
      "Epoch 20, Loss: 0.08470754325389862\n",
      "Epoch 21, Loss: 0.08665592968463898\n",
      "Epoch 22, Loss: 0.0885467454791069\n",
      "Epoch 23, Loss: 0.08907773345708847\n",
      "Epoch 24, Loss: 0.0881400927901268\n",
      "Epoch 25, Loss: 0.0864846408367157\n",
      "Epoch 26, Loss: 0.08501105010509491\n",
      "Epoch 27, Loss: 0.08425278216600418\n",
      "Epoch 28, Loss: 0.08425984531641006\n",
      "Epoch 29, Loss: 0.08475834876298904\n",
      "Epoch 30, Loss: 0.08538040518760681\n",
      "Epoch 31, Loss: 0.08582966774702072\n",
      "Epoch 32, Loss: 0.08595182746648788\n",
      "Epoch 33, Loss: 0.08573705703020096\n",
      "Epoch 34, Loss: 0.08528758585453033\n",
      "Epoch 35, Loss: 0.08476918190717697\n",
      "Epoch 36, Loss: 0.08435320854187012\n",
      "Epoch 37, Loss: 0.08415902405977249\n",
      "Epoch 38, Loss: 0.08421207964420319\n",
      "Epoch 39, Loss: 0.08443492650985718\n",
      "Epoch 40, Loss: 0.08468449860811234\n",
      "Epoch 41, Loss: 0.08482387661933899\n",
      "Epoch 42, Loss: 0.08478949964046478\n",
      "Epoch 43, Loss: 0.08461270481348038\n",
      "Epoch 44, Loss: 0.08438740670681\n",
      "Epoch 45, Loss: 0.08421149849891663\n",
      "Epoch 46, Loss: 0.08414027839899063\n",
      "Epoch 47, Loss: 0.0841720700263977\n",
      "Epoch 48, Loss: 0.08426310867071152\n",
      "Epoch 49, Loss: 0.08435580879449844\n",
      "Epoch 50, Loss: 0.08440472185611725\n",
      "Epoch 51, Loss: 0.08439145982265472\n",
      "Epoch 52, Loss: 0.08432643115520477\n",
      "Epoch 53, Loss: 0.0842398926615715\n",
      "Epoch 54, Loss: 0.08416702598333359\n",
      "Epoch 55, Loss: 0.08413273096084595\n",
      "Epoch 56, Loss: 0.08414198458194733\n",
      "Epoch 57, Loss: 0.08417961746454239\n",
      "Epoch 58, Loss: 0.08421961963176727\n",
      "Epoch 59, Loss: 0.08423899114131927\n",
      "Epoch 60, Loss: 0.08422873914241791\n",
      "Epoch 61, Loss: 0.08419616520404816\n",
      "Epoch 62, Loss: 0.08415846526622772\n",
      "Epoch 63, Loss: 0.08413233608007431\n",
      "Epoch 64, Loss: 0.08412585407495499\n",
      "Epoch 65, Loss: 0.08413633704185486\n",
      "Epoch 66, Loss: 0.08415376394987106\n",
      "Epoch 67, Loss: 0.08416691422462463\n",
      "Epoch 68, Loss: 0.08416879922151566\n",
      "Epoch 69, Loss: 0.08415909111499786\n",
      "Epoch 70, Loss: 0.08414315432310104\n",
      "Epoch 71, Loss: 0.08412854373455048\n",
      "Epoch 72, Loss: 0.08412106335163116\n",
      "Epoch 73, Loss: 0.08412215858697891\n",
      "Epoch 74, Loss: 0.08412880450487137\n",
      "Epoch 75, Loss: 0.08413567394018173\n",
      "Epoch 76, Loss: 0.08413827419281006\n",
      "Epoch 77, Loss: 0.08413515239953995\n",
      "Epoch 78, Loss: 0.08412817865610123\n",
      "Epoch 79, Loss: 0.08412095904350281\n",
      "Epoch 80, Loss: 0.0841166228055954\n",
      "Epoch 81, Loss: 0.08411625772714615\n",
      "Epoch 82, Loss: 0.08411867916584015\n",
      "Epoch 83, Loss: 0.08412151038646698\n",
      "Epoch 84, Loss: 0.08412261307239532\n",
      "Epoch 85, Loss: 0.08412116765975952\n",
      "Epoch 86, Loss: 0.08411788940429688\n",
      "Epoch 87, Loss: 0.08411434292793274\n",
      "Epoch 88, Loss: 0.08411198854446411\n",
      "Epoch 89, Loss: 0.08411144465208054\n",
      "Epoch 90, Loss: 0.08411221206188202\n",
      "Epoch 91, Loss: 0.08411318808794022\n",
      "Epoch 92, Loss: 0.08411333709955215\n",
      "Epoch 93, Loss: 0.08411230891942978\n",
      "Epoch 94, Loss: 0.08411045372486115\n",
      "Epoch 95, Loss: 0.08410856127738953\n",
      "Epoch 96, Loss: 0.08410729467868805\n",
      "Epoch 97, Loss: 0.08410686254501343\n",
      "Epoch 98, Loss: 0.08410695940256119\n",
      "Epoch 99, Loss: 0.08410702645778656\n",
      "Epoch 100, Loss: 0.08410666137933731\n",
      "Epoch 101, Loss: 0.08410575240850449\n",
      "Epoch 102, Loss: 0.08410454541444778\n",
      "Epoch 103, Loss: 0.08410341292619705\n",
      "Epoch 104, Loss: 0.08410261571407318\n",
      "Epoch 105, Loss: 0.08410219103097916\n",
      "Epoch 106, Loss: 0.08410193026065826\n",
      "Epoch 107, Loss: 0.0841015949845314\n",
      "Epoch 108, Loss: 0.08410100638866425\n",
      "Epoch 109, Loss: 0.08410018682479858\n",
      "Epoch 110, Loss: 0.08409929275512695\n",
      "Epoch 111, Loss: 0.08409849554300308\n",
      "Epoch 112, Loss: 0.08409786969423294\n",
      "Epoch 113, Loss: 0.08409739285707474\n",
      "Epoch 114, Loss: 0.08409693092107773\n",
      "Epoch 115, Loss: 0.08409639447927475\n",
      "Epoch 116, Loss: 0.08409573137760162\n",
      "Epoch 117, Loss: 0.08409498631954193\n",
      "Epoch 118, Loss: 0.08409424126148224\n",
      "Epoch 119, Loss: 0.08409357815980911\n",
      "Epoch 120, Loss: 0.08409299701452255\n",
      "Epoch 121, Loss: 0.08409244567155838\n",
      "Epoch 122, Loss: 0.08409187942743301\n",
      "Epoch 123, Loss: 0.08409124612808228\n",
      "Epoch 124, Loss: 0.08409057557582855\n",
      "Epoch 125, Loss: 0.08408988267183304\n",
      "Epoch 126, Loss: 0.08408920466899872\n",
      "Epoch 127, Loss: 0.08408858627080917\n",
      "Epoch 128, Loss: 0.08408797532320023\n",
      "Epoch 129, Loss: 0.08408737927675247\n",
      "Epoch 130, Loss: 0.08408674597740173\n",
      "Epoch 131, Loss: 0.08408608287572861\n",
      "Epoch 132, Loss: 0.08408541232347488\n",
      "Epoch 133, Loss: 0.08408474177122116\n",
      "Epoch 134, Loss: 0.08408409357070923\n",
      "Epoch 135, Loss: 0.08408346027135849\n",
      "Epoch 136, Loss: 0.08408282697200775\n",
      "Epoch 137, Loss: 0.08408218622207642\n",
      "Epoch 138, Loss: 0.08408152312040329\n",
      "Epoch 139, Loss: 0.08408086001873016\n",
      "Epoch 140, Loss: 0.08408018946647644\n",
      "Epoch 141, Loss: 0.08407952636480331\n",
      "Epoch 142, Loss: 0.08407887816429138\n",
      "Epoch 143, Loss: 0.08407821506261826\n",
      "Epoch 144, Loss: 0.08407755941152573\n",
      "Epoch 145, Loss: 0.084076888859272\n",
      "Epoch 146, Loss: 0.08407621830701828\n",
      "Epoch 147, Loss: 0.08407554030418396\n",
      "Epoch 148, Loss: 0.08407486230134964\n",
      "Epoch 149, Loss: 0.08407419919967651\n",
      "Epoch 150, Loss: 0.08407353609800339\n",
      "Epoch 151, Loss: 0.08407285809516907\n",
      "Epoch 152, Loss: 0.08407218754291534\n",
      "Epoch 153, Loss: 0.08407150208950043\n",
      "Epoch 154, Loss: 0.08407082408666611\n",
      "Epoch 155, Loss: 0.08407013863325119\n",
      "Epoch 156, Loss: 0.08406945317983627\n",
      "Epoch 157, Loss: 0.08406876772642136\n",
      "Epoch 158, Loss: 0.08406808972358704\n",
      "Epoch 159, Loss: 0.08406739681959152\n",
      "Epoch 160, Loss: 0.0840667113661766\n",
      "Epoch 161, Loss: 0.08406601846218109\n",
      "Epoch 162, Loss: 0.08406532555818558\n",
      "Epoch 163, Loss: 0.08406463265419006\n",
      "Epoch 164, Loss: 0.08406393975019455\n",
      "Epoch 165, Loss: 0.08406323194503784\n",
      "Epoch 166, Loss: 0.08406254649162292\n",
      "Epoch 167, Loss: 0.08406184613704681\n",
      "Epoch 168, Loss: 0.0840611383318901\n",
      "Epoch 169, Loss: 0.084060437977314\n",
      "Epoch 170, Loss: 0.08405973762273788\n",
      "Epoch 171, Loss: 0.08405903726816177\n",
      "Epoch 172, Loss: 0.08405832946300507\n",
      "Epoch 173, Loss: 0.08405762165784836\n",
      "Epoch 174, Loss: 0.08405690640211105\n",
      "Epoch 175, Loss: 0.08405619859695435\n",
      "Epoch 176, Loss: 0.08405548334121704\n",
      "Epoch 177, Loss: 0.08405478298664093\n",
      "Epoch 178, Loss: 0.08405406773090363\n",
      "Epoch 179, Loss: 0.08405334502458572\n",
      "Epoch 180, Loss: 0.08405262976884842\n",
      "Epoch 181, Loss: 0.08405191451311111\n",
      "Epoch 182, Loss: 0.08405119180679321\n",
      "Epoch 183, Loss: 0.08405046910047531\n",
      "Epoch 184, Loss: 0.084049753844738\n",
      "Epoch 185, Loss: 0.0840490385890007\n",
      "Epoch 186, Loss: 0.0840483084321022\n",
      "Epoch 187, Loss: 0.0840475857257843\n",
      "Epoch 188, Loss: 0.0840468555688858\n",
      "Epoch 189, Loss: 0.0840461254119873\n",
      "Epoch 190, Loss: 0.0840454027056694\n",
      "Epoch 191, Loss: 0.0840446799993515\n",
      "Epoch 192, Loss: 0.0840439423918724\n",
      "Epoch 193, Loss: 0.08404320478439331\n",
      "Epoch 194, Loss: 0.08404248207807541\n",
      "Epoch 195, Loss: 0.08404174447059631\n",
      "Epoch 196, Loss: 0.08404100686311722\n",
      "Epoch 197, Loss: 0.08404027670621872\n",
      "Epoch 198, Loss: 0.08403953909873962\n",
      "Epoch 199, Loss: 0.08403879404067993\n",
      "Epoch 200, Loss: 0.08403805643320084\n",
      "Epoch 201, Loss: 0.08403731137514114\n",
      "Epoch 202, Loss: 0.08403657376766205\n",
      "Epoch 203, Loss: 0.08403583616018295\n",
      "Epoch 204, Loss: 0.08403509110212326\n",
      "Epoch 205, Loss: 0.08403434604406357\n",
      "Epoch 206, Loss: 0.08403360098600388\n",
      "Epoch 207, Loss: 0.08403285592794418\n",
      "Epoch 208, Loss: 0.08403211086988449\n",
      "Epoch 209, Loss: 0.0840313583612442\n",
      "Epoch 210, Loss: 0.08403061330318451\n",
      "Epoch 211, Loss: 0.08402986824512482\n",
      "Epoch 212, Loss: 0.08402911573648453\n",
      "Epoch 213, Loss: 0.08402836322784424\n",
      "Epoch 214, Loss: 0.08402760326862335\n",
      "Epoch 215, Loss: 0.08402686566114426\n",
      "Epoch 216, Loss: 0.08402609825134277\n",
      "Epoch 217, Loss: 0.08402534574270248\n",
      "Epoch 218, Loss: 0.0840245932340622\n",
      "Epoch 219, Loss: 0.08402383327484131\n",
      "Epoch 220, Loss: 0.08402307331562042\n",
      "Epoch 221, Loss: 0.08402232080698013\n",
      "Epoch 222, Loss: 0.08402156084775925\n",
      "Epoch 223, Loss: 0.08402079343795776\n",
      "Epoch 224, Loss: 0.08402004092931747\n",
      "Epoch 225, Loss: 0.08401928097009659\n",
      "Epoch 226, Loss: 0.0840185135602951\n",
      "Epoch 227, Loss: 0.08401775360107422\n",
      "Epoch 228, Loss: 0.08401698619127274\n",
      "Epoch 229, Loss: 0.08401622623205185\n",
      "Epoch 230, Loss: 0.08401545882225037\n",
      "Epoch 231, Loss: 0.08401469141244888\n"
     ]
    },
    {
     "name": "stdout",
     "output_type": "stream",
     "text": [
      "Epoch 232, Loss: 0.0840139240026474\n",
      "Epoch 233, Loss: 0.08401315659284592\n",
      "Epoch 234, Loss: 0.08401238918304443\n",
      "Epoch 235, Loss: 0.08401162177324295\n",
      "Epoch 236, Loss: 0.08401084691286087\n",
      "Epoch 237, Loss: 0.08401007950305939\n",
      "Epoch 238, Loss: 0.0840093120932579\n",
      "Epoch 239, Loss: 0.08400852978229523\n",
      "Epoch 240, Loss: 0.08400776237249374\n",
      "Epoch 241, Loss: 0.08400699496269226\n",
      "Epoch 242, Loss: 0.08400622010231018\n",
      "Epoch 243, Loss: 0.0840054452419281\n",
      "Epoch 244, Loss: 0.08400467038154602\n",
      "Epoch 245, Loss: 0.08400389552116394\n",
      "Epoch 246, Loss: 0.08400312066078186\n",
      "Epoch 247, Loss: 0.08400234580039978\n",
      "Epoch 248, Loss: 0.0840015634894371\n",
      "Epoch 249, Loss: 0.08400078862905502\n",
      "Epoch 250, Loss: 0.08400000631809235\n",
      "Epoch 251, Loss: 0.08399923145771027\n",
      "Epoch 252, Loss: 0.08399845659732819\n",
      "Epoch 253, Loss: 0.08399767428636551\n",
      "Epoch 254, Loss: 0.08399689197540283\n",
      "Epoch 255, Loss: 0.08399612456560135\n",
      "Epoch 256, Loss: 0.08399532735347748\n",
      "Epoch 257, Loss: 0.0839945450425148\n",
      "Epoch 258, Loss: 0.08399646729230881\n",
      "Epoch 259, Loss: 0.08399314433336258\n",
      "Epoch 260, Loss: 0.08399265259504318\n",
      "Epoch 261, Loss: 0.08399200439453125\n",
      "Epoch 262, Loss: 0.08399107307195663\n",
      "Epoch 263, Loss: 0.08399002999067307\n",
      "Epoch 264, Loss: 0.08398907631635666\n",
      "Epoch 265, Loss: 0.08398831635713577\n",
      "Epoch 266, Loss: 0.08398767560720444\n",
      "Epoch 267, Loss: 0.08398699760437012\n",
      "Epoch 268, Loss: 0.08398617804050446\n",
      "Epoch 269, Loss: 0.08398527652025223\n",
      "Epoch 270, Loss: 0.0839843675494194\n",
      "Epoch 271, Loss: 0.08398355543613434\n",
      "Epoch 272, Loss: 0.08398284018039703\n",
      "Epoch 273, Loss: 0.08398212492465973\n",
      "Epoch 274, Loss: 0.08398134261369705\n",
      "Epoch 275, Loss: 0.0839805006980896\n",
      "Epoch 276, Loss: 0.08397963643074036\n",
      "Epoch 277, Loss: 0.08397882431745529\n",
      "Epoch 278, Loss: 0.08397805690765381\n",
      "Epoch 279, Loss: 0.08397729694843292\n",
      "Epoch 280, Loss: 0.08397652953863144\n",
      "Epoch 281, Loss: 0.08397571742534637\n",
      "Epoch 282, Loss: 0.08397489041090012\n",
      "Epoch 283, Loss: 0.08397407829761505\n",
      "Epoch 284, Loss: 0.08397328853607178\n",
      "Epoch 285, Loss: 0.0839725211262703\n",
      "Epoch 286, Loss: 0.08397173881530762\n",
      "Epoch 287, Loss: 0.08397094160318375\n",
      "Epoch 288, Loss: 0.08397012948989868\n",
      "Epoch 289, Loss: 0.08396932482719421\n",
      "Epoch 290, Loss: 0.08396852761507034\n",
      "Epoch 291, Loss: 0.08396773785352707\n",
      "Epoch 292, Loss: 0.08396695554256439\n",
      "Epoch 293, Loss: 0.08396615833044052\n",
      "Epoch 294, Loss: 0.08396535366773605\n",
      "Epoch 295, Loss: 0.08396455645561218\n",
      "Epoch 296, Loss: 0.08396375924348831\n",
      "Epoch 297, Loss: 0.08396296948194504\n",
      "Epoch 298, Loss: 0.08396217972040176\n",
      "Epoch 299, Loss: 0.0839613825082779\n",
      "Epoch 300, Loss: 0.08396058529615402\n",
      "Epoch 301, Loss: 0.08395978063344955\n",
      "Epoch 302, Loss: 0.08395898342132568\n",
      "Epoch 303, Loss: 0.08395818620920181\n",
      "Epoch 304, Loss: 0.08395738899707794\n",
      "Epoch 305, Loss: 0.08395660668611526\n",
      "Epoch 306, Loss: 0.0839558020234108\n",
      "Epoch 307, Loss: 0.08395501226186752\n",
      "Epoch 308, Loss: 0.08395420759916306\n",
      "Epoch 309, Loss: 0.08395340293645859\n",
      "Epoch 310, Loss: 0.08395261317491531\n",
      "Epoch 311, Loss: 0.08395181596279144\n",
      "Epoch 312, Loss: 0.08395101875066757\n",
      "Epoch 313, Loss: 0.0839502215385437\n",
      "Epoch 314, Loss: 0.08394941687583923\n",
      "Epoch 315, Loss: 0.08394862711429596\n",
      "Epoch 316, Loss: 0.08394782990217209\n",
      "Epoch 317, Loss: 0.08394702523946762\n",
      "Epoch 318, Loss: 0.08394623547792435\n",
      "Epoch 319, Loss: 0.08394543081521988\n",
      "Epoch 320, Loss: 0.0839446410536766\n",
      "Epoch 321, Loss: 0.08394384384155273\n",
      "Epoch 322, Loss: 0.08394303917884827\n",
      "Epoch 323, Loss: 0.0839422419667244\n",
      "Epoch 324, Loss: 0.08394144475460052\n",
      "Epoch 325, Loss: 0.08394064754247665\n",
      "Epoch 326, Loss: 0.08393985778093338\n",
      "Epoch 327, Loss: 0.08393905311822891\n",
      "Epoch 328, Loss: 0.08393825590610504\n",
      "Epoch 329, Loss: 0.08393745869398117\n",
      "Epoch 330, Loss: 0.0839366614818573\n",
      "Epoch 331, Loss: 0.08393586426973343\n",
      "Epoch 332, Loss: 0.08393505960702896\n",
      "Epoch 333, Loss: 0.08393426984548569\n",
      "Epoch 334, Loss: 0.08393347263336182\n",
      "Epoch 335, Loss: 0.08393267542123795\n",
      "Epoch 336, Loss: 0.08393188565969467\n",
      "Epoch 337, Loss: 0.0839310735464096\n",
      "Epoch 338, Loss: 0.08393027633428574\n",
      "Epoch 339, Loss: 0.08392948657274246\n",
      "Epoch 340, Loss: 0.08392868936061859\n",
      "Epoch 341, Loss: 0.08392789214849472\n",
      "Epoch 342, Loss: 0.08392709493637085\n",
      "Epoch 343, Loss: 0.08392629772424698\n",
      "Epoch 344, Loss: 0.0839255079627037\n",
      "Epoch 345, Loss: 0.08392470329999924\n",
      "Epoch 346, Loss: 0.08392390608787537\n",
      "Epoch 347, Loss: 0.08392311632633209\n",
      "Epoch 348, Loss: 0.08392231911420822\n",
      "Epoch 349, Loss: 0.08392152190208435\n",
      "Epoch 350, Loss: 0.08392073214054108\n",
      "Epoch 351, Loss: 0.0839199349284172\n",
      "Epoch 352, Loss: 0.08391913771629333\n",
      "Epoch 353, Loss: 0.08391834050416946\n",
      "Epoch 354, Loss: 0.0839175432920456\n",
      "Epoch 355, Loss: 0.08391675353050232\n",
      "Epoch 356, Loss: 0.08391594886779785\n",
      "Epoch 357, Loss: 0.08391515910625458\n",
      "Epoch 358, Loss: 0.0839143693447113\n",
      "Epoch 359, Loss: 0.08391357958316803\n",
      "Epoch 360, Loss: 0.08391277492046356\n",
      "Epoch 361, Loss: 0.08391198515892029\n",
      "Epoch 362, Loss: 0.08391118794679642\n",
      "Epoch 363, Loss: 0.08391039818525314\n",
      "Epoch 364, Loss: 0.08390960097312927\n",
      "Epoch 365, Loss: 0.083908811211586\n",
      "Epoch 366, Loss: 0.08390801399946213\n",
      "Epoch 367, Loss: 0.08390722423791885\n",
      "Epoch 368, Loss: 0.08390644192695618\n",
      "Epoch 369, Loss: 0.0839056447148323\n",
      "Epoch 370, Loss: 0.08390484750270844\n",
      "Epoch 371, Loss: 0.08390406519174576\n",
      "Epoch 372, Loss: 0.08390326797962189\n",
      "Epoch 373, Loss: 0.08390247821807861\n",
      "Epoch 374, Loss: 0.08390168100595474\n",
      "Epoch 375, Loss: 0.08390089869499207\n",
      "Epoch 376, Loss: 0.08390010893344879\n",
      "Epoch 377, Loss: 0.08389932662248611\n",
      "Epoch 378, Loss: 0.08389852195978165\n",
      "Epoch 379, Loss: 0.08389773964881897\n",
      "Epoch 380, Loss: 0.08389695733785629\n",
      "Epoch 381, Loss: 0.08389616757631302\n",
      "Epoch 382, Loss: 0.08389537781476974\n",
      "Epoch 383, Loss: 0.08389458805322647\n",
      "Epoch 384, Loss: 0.0838938057422638\n",
      "Epoch 385, Loss: 0.08389300853013992\n",
      "Epoch 386, Loss: 0.08389222621917725\n",
      "Epoch 387, Loss: 0.08389143645763397\n",
      "Epoch 388, Loss: 0.0838906541466713\n",
      "Epoch 389, Loss: 0.08388987183570862\n",
      "Epoch 390, Loss: 0.08388908207416534\n",
      "Epoch 391, Loss: 0.08388829976320267\n",
      "Epoch 392, Loss: 0.0838875100016594\n",
      "Epoch 393, Loss: 0.08388672769069672\n",
      "Epoch 394, Loss: 0.08388594537973404\n",
      "Epoch 395, Loss: 0.08388517051935196\n",
      "Epoch 396, Loss: 0.08388438075780869\n",
      "Epoch 397, Loss: 0.08388359844684601\n",
      "Epoch 398, Loss: 0.08388280868530273\n",
      "Epoch 399, Loss: 0.08388202637434006\n",
      "Epoch 400, Loss: 0.08388125151395798\n",
      "Epoch 401, Loss: 0.0838804617524147\n",
      "Epoch 402, Loss: 0.08387968689203262\n",
      "Epoch 403, Loss: 0.08387891203165054\n",
      "Epoch 404, Loss: 0.08387812972068787\n",
      "Epoch 405, Loss: 0.08387735486030579\n",
      "Epoch 406, Loss: 0.08387657254934311\n",
      "Epoch 407, Loss: 0.08387579023838043\n",
      "Epoch 408, Loss: 0.08387500792741776\n",
      "Epoch 409, Loss: 0.08387424051761627\n",
      "Epoch 410, Loss: 0.0838734582066536\n",
      "Epoch 411, Loss: 0.08387268334627151\n",
      "Epoch 412, Loss: 0.08387190103530884\n",
      "Epoch 413, Loss: 0.08387112617492676\n",
      "Epoch 414, Loss: 0.08387035876512527\n",
      "Epoch 415, Loss: 0.0838695839047432\n",
      "Epoch 416, Loss: 0.08386879414319992\n",
      "Epoch 417, Loss: 0.08386802673339844\n",
      "Epoch 418, Loss: 0.08386725932359695\n",
      "Epoch 419, Loss: 0.08386647701263428\n",
      "Epoch 420, Loss: 0.08386571705341339\n",
      "Epoch 421, Loss: 0.08386494219303131\n",
      "Epoch 422, Loss: 0.08386416733264923\n",
      "Epoch 423, Loss: 0.08386339992284775\n",
      "Epoch 424, Loss: 0.08386262506246567\n",
      "Epoch 425, Loss: 0.08386185765266418\n",
      "Epoch 426, Loss: 0.0838610902428627\n",
      "Epoch 427, Loss: 0.08386032283306122\n",
      "Epoch 428, Loss: 0.08385954797267914\n",
      "Epoch 429, Loss: 0.08385878056287766\n",
      "Epoch 430, Loss: 0.08385801315307617\n",
      "Epoch 431, Loss: 0.08385724574327469\n",
      "Epoch 432, Loss: 0.0838564783334732\n",
      "Epoch 433, Loss: 0.08385571837425232\n",
      "Epoch 434, Loss: 0.08385495841503143\n",
      "Epoch 435, Loss: 0.08385418355464935\n",
      "Epoch 436, Loss: 0.08385341614484787\n",
      "Epoch 437, Loss: 0.08385265618562698\n",
      "Epoch 438, Loss: 0.0838518962264061\n",
      "Epoch 439, Loss: 0.08385112881660461\n",
      "Epoch 440, Loss: 0.08385036885738373\n",
      "Epoch 441, Loss: 0.08384960889816284\n",
      "Epoch 442, Loss: 0.08384884893894196\n",
      "Epoch 443, Loss: 0.08384809643030167\n",
      "Epoch 444, Loss: 0.08384732902050018\n",
      "Epoch 445, Loss: 0.0838465690612793\n",
      "Epoch 446, Loss: 0.08384581655263901\n",
      "Epoch 447, Loss: 0.08384505659341812\n",
      "Epoch 448, Loss: 0.08384429663419724\n",
      "Epoch 449, Loss: 0.08384354412555695\n",
      "Epoch 450, Loss: 0.08384278416633606\n",
      "Epoch 451, Loss: 0.08384202420711517\n",
      "Epoch 452, Loss: 0.08384127914905548\n",
      "Epoch 453, Loss: 0.0838405191898346\n",
      "Epoch 454, Loss: 0.0838397666811943\n",
      "Epoch 455, Loss: 0.08383900672197342\n",
      "Epoch 456, Loss: 0.08383826911449432\n",
      "Epoch 457, Loss: 0.08383750915527344\n"
     ]
    },
    {
     "name": "stdout",
     "output_type": "stream",
     "text": [
      "Epoch 458, Loss: 0.08383676409721375\n",
      "Epoch 459, Loss: 0.08383601158857346\n",
      "Epoch 460, Loss: 0.08383525907993317\n",
      "Epoch 461, Loss: 0.08383451402187347\n",
      "Epoch 462, Loss: 0.08383376151323318\n",
      "Epoch 463, Loss: 0.08383302390575409\n",
      "Epoch 464, Loss: 0.0838322639465332\n",
      "Epoch 465, Loss: 0.08383152633905411\n",
      "Epoch 466, Loss: 0.08383077383041382\n",
      "Epoch 467, Loss: 0.08383003622293472\n",
      "Epoch 468, Loss: 0.08382928371429443\n",
      "Epoch 469, Loss: 0.08382854610681534\n",
      "Epoch 470, Loss: 0.08382780104875565\n",
      "Epoch 471, Loss: 0.08382706344127655\n",
      "Epoch 472, Loss: 0.08382631838321686\n",
      "Epoch 473, Loss: 0.08382558077573776\n",
      "Epoch 474, Loss: 0.08382483571767807\n",
      "Epoch 475, Loss: 0.08382409065961838\n",
      "Epoch 476, Loss: 0.08382335305213928\n",
      "Epoch 477, Loss: 0.08382262289524078\n",
      "Epoch 478, Loss: 0.08382188528776169\n",
      "Epoch 479, Loss: 0.08382114768028259\n",
      "Epoch 480, Loss: 0.0838204100728035\n",
      "Epoch 481, Loss: 0.083819679915905\n",
      "Epoch 482, Loss: 0.0838189423084259\n",
      "Epoch 483, Loss: 0.08381820470094681\n",
      "Epoch 484, Loss: 0.08381747454404831\n",
      "Epoch 485, Loss: 0.08381674438714981\n",
      "Epoch 486, Loss: 0.08381600677967072\n",
      "Epoch 487, Loss: 0.08381527662277222\n",
      "Epoch 488, Loss: 0.08381455391645432\n",
      "Epoch 489, Loss: 0.08381381630897522\n",
      "Epoch 490, Loss: 0.08381309360265732\n",
      "Epoch 491, Loss: 0.08381236344575882\n",
      "Epoch 492, Loss: 0.08381163328886032\n",
      "Epoch 493, Loss: 0.08381091058254242\n",
      "Epoch 494, Loss: 0.08381018787622452\n",
      "Epoch 495, Loss: 0.08380945771932602\n",
      "Epoch 496, Loss: 0.08380872756242752\n",
      "Epoch 497, Loss: 0.08380800485610962\n",
      "Epoch 498, Loss: 0.08380728214979172\n",
      "Epoch 499, Loss: 0.08380656689405441\n"
     ]
    }
   ],
   "source": [
    "model = GCN().to(device)\n",
    "optimizer = torch.optim.Adam(model.parameters(), lr=0.01)\n",
    "\n",
    "# Define the loss function\n",
    "criterion = torch.nn.MSELoss()\n",
    "\n",
    "# Define the training loop\n",
    "def train(model, data, optimizer, criterion, device):\n",
    "    model.train()\n",
    "\n",
    "    # Move the data to the device\n",
    "    data = data.to(device)\n",
    "\n",
    "    # Zero the gradients\n",
    "    optimizer.zero_grad()\n",
    "\n",
    "    # Compute the model output\n",
    "    out = model(data.x, data.edge_index)\n",
    "\n",
    "    # Compute the loss\n",
    "    loss = criterion(out, data.y)\n",
    "\n",
    "    # Backpropagate the gradients\n",
    "    loss.backward()\n",
    "    optimizer.step()\n",
    "\n",
    "    return loss.item()\n",
    "\n",
    "# Train the model\n",
    "loss_list = []\n",
    "for epoch in range(500):\n",
    "    loss = train(model, data, optimizer, criterion, device)\n",
    "    loss_list.append(loss)\n",
    "    print('Epoch {}, Loss: {}'.format(epoch, loss))"
   ]
  },
  {
   "cell_type": "code",
   "execution_count": 17,
   "id": "80e770f1",
   "metadata": {
    "scrolled": false
   },
   "outputs": [
    {
     "data": {
      "image/png": "[encoded data removed]",
      "text/plain": [
       "<Figure size 640x480 with 1 Axes>"
      ]
     },
     "metadata": {},
     "output_type": "display_data"
    }
   ],
   "source": [
    "plt.figure(1)\n",
    "plt.plot(loss_list, label = 'train loss')\n",
    "plt.xlabel('# iteration')\n",
    "plt.ylabel('loss (mean squared error)')\n",
    "plt.yscale('log')\n",
    "plt.title('Train loss')\n",
    "plt.show()"
   ]
  },
  {
   "cell_type": "code",
   "execution_count": 18,
   "id": "e7a4a865",
   "metadata": {},
   "outputs": [
    {
     "data": {
      "text/plain": [
       "tensor([[    1,     1,     1,  ..., 36864, 36864, 36864],\n",
       "        [    1,     2,     3,  ..., 36862, 36863, 36864]], device='cuda:0')"
      ]
     },
     "execution_count": 18,
     "metadata": {},
     "output_type": "execute_result"
    }
   ],
   "source": [
    "data.edge_index"
   ]
  },
  {
   "cell_type": "code",
   "execution_count": 19,
   "id": "50d9b440",
   "metadata": {},
   "outputs": [],
   "source": [
    "# Compute predicted u and residual error\n",
    "model.eval()\n",
    "predicted_u = model(data.x, data.edge_index)"
   ]
  },
  {
   "cell_type": "code",
   "execution_count": 20,
   "id": "e78caaa1",
   "metadata": {},
   "outputs": [
    {
     "data": {
      "text/plain": [
       "tensor([[0.4989],\n",
       "        [0.4916],\n",
       "        [0.4916],\n",
       "        ...,\n",
       "        [0.4847],\n",
       "        [0.4847],\n",
       "        [0.5174]], device='cuda:0', grad_fn=<AddBackward0>)"
      ]
     },
     "execution_count": 20,
     "metadata": {},
     "output_type": "execute_result"
    }
   ],
   "source": [
    "predicted_u"
   ]
  },
  {
   "cell_type": "code",
   "execution_count": 21,
   "id": "980d637d",
   "metadata": {},
   "outputs": [
    {
     "data": {
      "text/plain": [
       "tensor([[0.1145],\n",
       "        [0.9684],\n",
       "        [0.8208],\n",
       "        ...,\n",
       "        [0.5191],\n",
       "        [0.7002],\n",
       "        [0.5013]])"
      ]
     },
     "execution_count": 21,
     "metadata": {},
     "output_type": "execute_result"
    }
   ],
   "source": [
    "u"
   ]
  },
  {
   "cell_type": "code",
   "execution_count": 26,
   "id": "2d00325e",
   "metadata": {},
   "outputs": [],
   "source": [
    "#residual_error = torch.sqrt(torch.sum(torch.square(torch.mm(A.to(device), predicted_u) - b.to(device))))"
   ]
  },
  {
   "cell_type": "code",
   "execution_count": null,
   "id": "657481cc",
   "metadata": {},
   "outputs": [],
   "source": []
  }
 ],
 "metadata": {
  "kernelspec": {
   "display_name": "Python 3 (ipykernel)",
   "language": "python",
   "name": "python3"
  },
  "language_info": {
   "codemirror_mode": {
    "name": "ipython",
    "version": 3
   },
   "file_extension": ".py",
   "mimetype": "text/x-python",
   "name": "python",
   "nbconvert_exporter": "python",
   "pygments_lexer": "ipython3",
   "version": "3.8.16"
  }
 },
 "nbformat": 4,
 "nbformat_minor": 5
}
