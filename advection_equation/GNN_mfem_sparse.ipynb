{
 "cells": [
  {
   "cell_type": "markdown",
   "id": "379285b2",
   "metadata": {},
   "source": [
    "# Research - Soha Yusuf (RIN: 662011092)"
   ]
  },
  {
   "cell_type": "markdown",
   "id": "d7d42d31",
   "metadata": {},
   "source": [
    "# Graph Neural Network to solve Au=b"
   ]
  },
  {
   "cell_type": "code",
   "execution_count": 1,
   "id": "4db24994",
   "metadata": {},
   "outputs": [
    {
     "name": "stderr",
     "output_type": "stream",
     "text": [
      "C:\\Users\\soha9\\anaconda3\\envs\\torch\\lib\\site-packages\\tqdm\\auto.py:22: TqdmWarning: IProgress not found. Please update jupyter and ipywidgets. See https://ipywidgets.readthedocs.io/en/stable/user_install.html\n",
      "  from .autonotebook import tqdm as notebook_tqdm\n"
     ]
    }
   ],
   "source": [
    "import torch\n",
    "import torch.nn as nn\n",
    "import torch.nn.functional as F\n",
    "import torch.optim as optim\n",
    "from torch_geometric.data import Data\n",
    "from torch_geometric.nn import GCNConv\n",
    "from torch_geometric.transforms import AddSelfLoops\n",
    "from torch_geometric.data import Data, DataLoader\n",
    "\n",
    "from scipy.sparse import coo_matrix, csr_matrix\n",
    "from torch_sparse import coalesce, SparseTensor\n",
    "from sklearn.model_selection import train_test_split\n",
    "\n",
    "import matplotlib.pyplot as plt\n",
    "import numpy as np"
   ]
  },
  {
   "cell_type": "code",
   "execution_count": 2,
   "id": "4bd3ac89",
   "metadata": {},
   "outputs": [],
   "source": [
    "device = torch.device('cuda' if torch.cuda.is_available() else 'cpu')"
   ]
  },
  {
   "cell_type": "markdown",
   "id": "78402dac",
   "metadata": {},
   "source": [
    "## Load sparse matrix A in coo format\n",
    "\n",
    "A:   m x n  \n",
    "\n",
    "b:   n x 1\n",
    "\n",
    "x:   m x 1"
   ]
  },
  {
   "cell_type": "code",
   "execution_count": 3,
   "id": "01ad10b8",
   "metadata": {},
   "outputs": [
    {
     "name": "stdout",
     "output_type": "stream",
     "text": [
      "Number of nodes:  36865\n",
      "A shape:  (36865, 36865)\n"
     ]
    }
   ],
   "source": [
    "#Load the data\n",
    "A_matrix_path = \"data/A_ex9.txt\"\n",
    "A_info = np.loadtxt(A_matrix_path)\n",
    "\n",
    "# Extract the row, column, and value arrays from the data\n",
    "row_A = A_info[:, 0].astype(int)\n",
    "col_A = A_info[:, 1].astype(int)\n",
    "val_A = A_info[:, 2]\n",
    "\n",
    "# Create the sparse matrix using COO format\n",
    "A = coo_matrix((val_A, (row_A, col_A)))\n",
    "num_nodes = A.shape[0]\n",
    "\n",
    "print('Number of nodes: ', num_nodes)\n",
    "print('A shape: ', A.shape)"
   ]
  },
  {
   "cell_type": "markdown",
   "id": "cece129e",
   "metadata": {},
   "source": [
    "## Load u"
   ]
  },
  {
   "cell_type": "code",
   "execution_count": 4,
   "id": "0840918f",
   "metadata": {},
   "outputs": [],
   "source": [
    "# # Load u\n",
    "# u_vector_path = \"data/u_ex9.txt\"\n",
    "# u = np.loadtxt(u_vector_path)\n",
    "# print('u shape: ', u.shape)"
   ]
  },
  {
   "cell_type": "markdown",
   "id": "7b470661",
   "metadata": {},
   "source": [
    "## Compute b"
   ]
  },
  {
   "cell_type": "code",
   "execution_count": 5,
   "id": "23157ed7",
   "metadata": {},
   "outputs": [
    {
     "name": "stdout",
     "output_type": "stream",
     "text": [
      "torch.Size([36865, 1])\n",
      "torch.Size([36865, 1])\n",
      "torch.Size([36865, 36865])\n"
     ]
    }
   ],
   "source": [
    "# Convert A to PyTorch SparseTensor\n",
    "indices = torch.from_numpy(np.vstack((A.row, A.col))).long()\n",
    "values = torch.from_numpy(A.data).float()\n",
    "shape = torch.Size(A.shape)\n",
    "A = torch.sparse.FloatTensor(indices, values, shape)\n",
    "\n",
    "u = torch.FloatTensor(np.random.rand(num_nodes, 1))\n",
    "b = A.matmul(u)\n",
    "\n",
    "print(b.shape)\n",
    "print(u.shape)\n",
    "print(A.shape)"
   ]
  },
  {
   "cell_type": "code",
   "execution_count": 6,
   "id": "26e506b5",
   "metadata": {},
   "outputs": [
    {
     "data": {
      "text/plain": [
       "tensor(indices=tensor([[    1,     1,     1,  ..., 36864, 36864, 36864],\n",
       "                       [    1,     2,     3,  ..., 36862, 36863, 36864]]),\n",
       "       values=tensor([ 8.8577e-06,  3.3011e-06, -3.3011e-06,  ...,\n",
       "                      -3.3005e-06,  3.2999e-06,  8.8583e-06]),\n",
       "       size=(36865, 36865), nnz=662016, layout=torch.sparse_coo)"
      ]
     },
     "execution_count": 6,
     "metadata": {},
     "output_type": "execute_result"
    }
   ],
   "source": [
    "A"
   ]
  },
  {
   "cell_type": "code",
   "execution_count": 7,
   "id": "e1032e99",
   "metadata": {},
   "outputs": [
    {
     "data": {
      "text/plain": [
       "tensor([[0.6212],\n",
       "        [0.1044],\n",
       "        [0.0266],\n",
       "        ...,\n",
       "        [0.1812],\n",
       "        [0.3843],\n",
       "        [0.7157]])"
      ]
     },
     "execution_count": 7,
     "metadata": {},
     "output_type": "execute_result"
    }
   ],
   "source": [
    "u"
   ]
  },
  {
   "cell_type": "code",
   "execution_count": 8,
   "id": "6fd2f5c6",
   "metadata": {},
   "outputs": [
    {
     "data": {
      "text/plain": [
       "tensor([[ 0.0000e+00],\n",
       "        [-1.5544e-06],\n",
       "        [-5.1648e-06],\n",
       "        ...,\n",
       "        [ 5.9315e-06],\n",
       "        [ 1.0078e-05],\n",
       "        [ 1.1225e-05]])"
      ]
     },
     "execution_count": 8,
     "metadata": {},
     "output_type": "execute_result"
    }
   ],
   "source": [
    "b"
   ]
  },
  {
   "cell_type": "markdown",
   "id": "ec4ffe8a",
   "metadata": {},
   "source": [
    "## Edge Index\n",
    "\n",
    "In graph neural networks, edge_index is a commonly used term that refers to a matrix or tensor that represents the edges of a graph. It is a two-dimensional matrix with two rows, where each column represents an edge of the graph. The first row of the matrix contains the index of the source nodes of each edge, while the second row contains the index of the destination nodes.\n",
    "\n",
    "For example, let's say we have a simple undirected graph with 4 nodes and 3 edges, where the edges are (0,1), (1,2), and (2,3). We can represent this graph using the following edge_index matrix:\n",
    "\n",
    "```\n",
    "edge_index = [\n",
    "  [0, 1, 1, 2],\n",
    "  [1, 0, 2, 3]\n",
    "]\n",
    "```\n",
    "Here, the first row of edge_index represents the source nodes of each edge, and the second row represents the destination nodes. For example, the first edge (0,1) has source node 0 and destination node 1.\n",
    "\n",
    "The edge_index matrix is typically used in conjunction with node feature matrices to define the input to a graph neural network. The node feature matrix contains features for each node in the graph, while the edge_index matrix describes the edges that connect the nodes. By combining these two matrices, a graph neural network can learn to operate on the graph structure and its associated features."
   ]
  },
  {
   "cell_type": "markdown",
   "id": "c1f5d196",
   "metadata": {},
   "source": [
    "## Edge Weights\n",
    "\n",
    "In graph neural networks, edge_weights are values associated with the edges of a graph, which can be used to represent the strength, importance or similarity between connected nodes. edge_weights can be used in a variety of ways, such as during message passing, graph convolutions or pooling operations.\n",
    "\n",
    "edge_weights can be represented as a tensor or an array, with one value per edge. If the edges are unweighted, i.e., all edges are equally important, then the edge_weights can be represented as an array of ones. However, if the edges have different weights, then the edge_weights can be assigned accordingly."
   ]
  },
  {
   "cell_type": "code",
   "execution_count": 9,
   "id": "84c3494f",
   "metadata": {},
   "outputs": [],
   "source": [
    "# Assuming A_sp is a PyTorch SparseTensor\n",
    "A_coo = A.coalesce()\n",
    "edge_index = A_coo.indices()\n",
    "edge_weights = A_coo.values()\n",
    "\n",
    "# Convert edge indices to PyTorch LongTensor\n",
    "edge_index = edge_index.long()"
   ]
  },
  {
   "cell_type": "code",
   "execution_count": 10,
   "id": "977edfce",
   "metadata": {},
   "outputs": [
    {
     "name": "stdout",
     "output_type": "stream",
     "text": [
      "====== Edge Index =====\n",
      "edge_index shape:  torch.Size([2, 662016])\n",
      "tensor([[    1,     1,     1,  ..., 36864, 36864, 36864],\n",
      "        [    1,     2,     3,  ..., 36862, 36863, 36864]])\n",
      "====== Edge Weights =====\n",
      "edge_weights shape:  torch.Size([662016])\n",
      "tensor([ 8.8577e-06,  3.3011e-06, -3.3011e-06,  ..., -3.3005e-06,\n",
      "         3.2999e-06,  8.8583e-06])\n"
     ]
    }
   ],
   "source": [
    "print('====== Edge Index =====')\n",
    "print('edge_index shape: ',edge_index.shape)\n",
    "print(edge_index)\n",
    "print('====== Edge Weights =====')\n",
    "print('edge_weights shape: ',edge_weights.shape)\n",
    "print(edge_weights)"
   ]
  },
  {
   "cell_type": "markdown",
   "id": "70bb7e29",
   "metadata": {},
   "source": [
    "## Create data object for input to GNN\n",
    "\n",
    "The Data object has the following attributes:\n",
    "\n",
    "- **'x'**: a tensor of node features with shape **'[36865, 1]'**. This means there are 36865 nodes in the graph, each with 1 feature.\n",
    "- **'edge_index'**: a tensor of shape **'[2, 662016]'** representing the edge index of the graph. The first row contains the source nodes and the second row contains the destination nodes. There are 662016 edges in the graph.\n",
    "\n",
    "- **'edge_attr'**: a tensor of edge weights with shape **'[662016]'**. This means there is one weight for each edge in the graph.\n",
    "\n",
    "- **'num_nodes'**: an integer value of **36865** representing the total number of nodes in the graph."
   ]
  },
  {
   "cell_type": "code",
   "execution_count": 12,
   "id": "3c205fa1",
   "metadata": {},
   "outputs": [
    {
     "name": "stdout",
     "output_type": "stream",
     "text": [
      "Data(x=[36865, 1], edge_index=[2, 662016], edge_attr=[662016], y=[36865, 1], num_nodes=36865)\n"
     ]
    }
   ],
   "source": [
    "# Create a Data object from edge_index, edge_weights, and node features\n",
    "data = Data(x=b, edge_index=edge_index, edge_attr=edge_weights, num_nodes=num_nodes, y=u)\n",
    "data = data.to(device)\n",
    "\n",
    "# Print the Data object\n",
    "print(data)"
   ]
  },
  {
   "cell_type": "markdown",
   "id": "3f23229c",
   "metadata": {},
   "source": [
    "## Graph Neural Network model\n",
    "\n",
    "The given model is a graph convolutional network (GCN) that consists of 4 graph convolutional layers.\n",
    "\n",
    "- First layer, the model takes a feature vector of size 1 for each node and applies the GCNConv operation with 128 output channels. The output of this layer is then passed through a rectified linear unit (ReLU) activation function.\n",
    "\n",
    "- Last layer applies the GCNConv operation with a single output channel, which is the predicted value for each node.\n",
    "\n",
    "The model takes the input data **'x'** and **'edge_index'** and returns the predicted values for each node."
   ]
  },
  {
   "cell_type": "code",
   "execution_count": 13,
   "id": "2e76868d",
   "metadata": {},
   "outputs": [],
   "source": [
    "class GCN(torch.nn.Module):\n",
    "    def __init__(self):\n",
    "        super(GCN, self).__init__()\n",
    "        self.conv1 = GCNConv(1, 128)\n",
    "        self.conv2 = GCNConv(128, 64)\n",
    "        self.conv3 = GCNConv(64, 16)\n",
    "        self.conv4 = GCNConv(16, 1)\n",
    "\n",
    "    def forward(self, x, edge_index):\n",
    "        x = self.conv1(x, edge_index)\n",
    "        x = F.relu(x)\n",
    "        x = self.conv2(x, edge_index)\n",
    "        x = F.relu(x)\n",
    "        x = self.conv3(x, edge_index)\n",
    "        x = F.relu(x)\n",
    "        x = self.conv4(x, edge_index)\n",
    "        return x"
   ]
  },
  {
   "cell_type": "markdown",
   "id": "fda5d481",
   "metadata": {},
   "source": [
    "## Train Graph Convolutional Network"
   ]
  },
  {
   "cell_type": "code",
   "execution_count": 14,
   "id": "f440c255",
   "metadata": {
    "scrolled": true
   },
   "outputs": [
    {
     "name": "stdout",
     "output_type": "stream",
     "text": [
      "Epoch 0, Loss: 0.33187273144721985\n",
      "Epoch 1, Loss: 0.30477696657180786\n",
      "Epoch 2, Loss: 0.2590939402580261\n",
      "Epoch 3, Loss: 0.20694494247436523\n",
      "Epoch 4, Loss: 0.15360644459724426\n",
      "Epoch 5, Loss: 0.10746609419584274\n",
      "Epoch 6, Loss: 0.08469660580158234\n",
      "Epoch 7, Loss: 0.10403674095869064\n",
      "Epoch 8, Loss: 0.1315341591835022\n",
      "Epoch 9, Loss: 0.12863460183143616\n",
      "Epoch 10, Loss: 0.11013840138912201\n",
      "Epoch 11, Loss: 0.09360350668430328\n",
      "Epoch 12, Loss: 0.08555099368095398\n",
      "Epoch 13, Loss: 0.08482202142477036\n",
      "Epoch 14, Loss: 0.08791176229715347\n",
      "Epoch 15, Loss: 0.09188555181026459\n",
      "Epoch 16, Loss: 0.09504906833171844\n",
      "Epoch 17, Loss: 0.09656891226768494\n",
      "Epoch 18, Loss: 0.0964377298951149\n",
      "Epoch 19, Loss: 0.09492002427577972\n",
      "Epoch 20, Loss: 0.09245795756578445\n",
      "Epoch 21, Loss: 0.08960243314504623\n",
      "Epoch 22, Loss: 0.08695004880428314\n",
      "Epoch 23, Loss: 0.08506283909082413\n",
      "Epoch 24, Loss: 0.08435223251581192\n",
      "Epoch 25, Loss: 0.0848984569311142\n",
      "Epoch 26, Loss: 0.0861714631319046\n",
      "Epoch 27, Loss: 0.08729904145002365\n",
      "Epoch 28, Loss: 0.08763663470745087\n",
      "Epoch 29, Loss: 0.08709824830293655\n",
      "Epoch 30, Loss: 0.08604729175567627\n",
      "Epoch 31, Loss: 0.08500850200653076\n",
      "Epoch 32, Loss: 0.08439749479293823\n",
      "Epoch 33, Loss: 0.08437032252550125\n",
      "Epoch 34, Loss: 0.08478465676307678\n",
      "Epoch 35, Loss: 0.08527469635009766\n",
      "Epoch 36, Loss: 0.08551894873380661\n",
      "Epoch 37, Loss: 0.08543023467063904\n",
      "Epoch 38, Loss: 0.08510427176952362\n",
      "Epoch 39, Loss: 0.08471169322729111\n",
      "Epoch 40, Loss: 0.08441166579723358\n",
      "Epoch 41, Loss: 0.08429403603076935\n",
      "Epoch 42, Loss: 0.08435641974210739\n",
      "Epoch 43, Loss: 0.0845208689570427\n",
      "Epoch 44, Loss: 0.0846807211637497\n",
      "Epoch 45, Loss: 0.08475309610366821\n",
      "Epoch 46, Loss: 0.08471120148897171\n",
      "Epoch 47, Loss: 0.08458499610424042\n",
      "Epoch 48, Loss: 0.08443616330623627\n",
      "Epoch 49, Loss: 0.08432451635599136\n",
      "Epoch 50, Loss: 0.08428262174129486\n",
      "Epoch 51, Loss: 0.08430768549442291\n",
      "Epoch 52, Loss: 0.08436989784240723\n",
      "Epoch 53, Loss: 0.08443024009466171\n",
      "Epoch 54, Loss: 0.08445854485034943\n",
      "Epoch 55, Loss: 0.08444426953792572\n",
      "Epoch 56, Loss: 0.08439715951681137\n",
      "Epoch 57, Loss: 0.08433936536312103\n",
      "Epoch 58, Loss: 0.08429399132728577\n",
      "Epoch 59, Loss: 0.08427517861127853\n",
      "Epoch 60, Loss: 0.0842834860086441\n",
      "Epoch 61, Loss: 0.08430781960487366\n",
      "Epoch 62, Loss: 0.08433210849761963\n",
      "Epoch 63, Loss: 0.0843433141708374\n",
      "Epoch 64, Loss: 0.08433670550584793\n",
      "Epoch 65, Loss: 0.08431658893823624\n",
      "Epoch 66, Loss: 0.08429278433322906\n",
      "Epoch 67, Loss: 0.08427512645721436\n",
      "Epoch 68, Loss: 0.08426898717880249\n",
      "Epoch 69, Loss: 0.08427369594573975\n",
      "Epoch 70, Loss: 0.08428385853767395\n",
      "Epoch 71, Loss: 0.08429272472858429\n",
      "Epoch 72, Loss: 0.08429540693759918\n",
      "Epoch 73, Loss: 0.08429080247879028\n",
      "Epoch 74, Loss: 0.08428139239549637\n",
      "Epoch 75, Loss: 0.08427154272794724\n",
      "Epoch 76, Loss: 0.0842650905251503\n",
      "Epoch 77, Loss: 0.08426371961832047\n",
      "Epoch 78, Loss: 0.08426643908023834\n",
      "Epoch 79, Loss: 0.08427053689956665\n",
      "Epoch 80, Loss: 0.08427314460277557\n",
      "Epoch 81, Loss: 0.08427262306213379\n",
      "Epoch 82, Loss: 0.08426922559738159\n",
      "Epoch 83, Loss: 0.08426451683044434\n",
      "Epoch 84, Loss: 0.08426053076982498\n",
      "Epoch 85, Loss: 0.0842585638165474\n",
      "Epoch 86, Loss: 0.08425871282815933\n",
      "Epoch 87, Loss: 0.08426003903150558\n",
      "Epoch 88, Loss: 0.08426118642091751\n",
      "Epoch 89, Loss: 0.08426117151975632\n",
      "Epoch 90, Loss: 0.0842597484588623\n",
      "Epoch 91, Loss: 0.08425746113061905\n",
      "Epoch 92, Loss: 0.08425519615411758\n",
      "Epoch 93, Loss: 0.08425367623567581\n",
      "Epoch 94, Loss: 0.08425314724445343\n",
      "Epoch 95, Loss: 0.08425328880548477\n",
      "Epoch 96, Loss: 0.08425350487232208\n",
      "Epoch 97, Loss: 0.08425327390432358\n",
      "Epoch 98, Loss: 0.08425239473581314\n",
      "Epoch 99, Loss: 0.08425106108188629\n",
      "Epoch 100, Loss: 0.08424967527389526\n",
      "Epoch 101, Loss: 0.08424858748912811\n",
      "Epoch 102, Loss: 0.08424794673919678\n",
      "Epoch 103, Loss: 0.08424761891365051\n",
      "Epoch 104, Loss: 0.08424735814332962\n",
      "Epoch 105, Loss: 0.08424688875675201\n",
      "Epoch 106, Loss: 0.08424613624811172\n",
      "Epoch 107, Loss: 0.08424517512321472\n",
      "Epoch 108, Loss: 0.08424418419599533\n",
      "Epoch 109, Loss: 0.08424332737922668\n",
      "Epoch 110, Loss: 0.08424266427755356\n",
      "Epoch 111, Loss: 0.08424216508865356\n",
      "Epoch 112, Loss: 0.08424165844917297\n",
      "Epoch 113, Loss: 0.08424106240272522\n",
      "Epoch 114, Loss: 0.08424032479524612\n",
      "Epoch 115, Loss: 0.08423949778079987\n",
      "Epoch 116, Loss: 0.0842386782169342\n",
      "Epoch 117, Loss: 0.08423793315887451\n",
      "Epoch 118, Loss: 0.08423726260662079\n",
      "Epoch 119, Loss: 0.08423665910959244\n",
      "Epoch 120, Loss: 0.0842360407114029\n",
      "Epoch 121, Loss: 0.08423537015914917\n",
      "Epoch 122, Loss: 0.08423464000225067\n",
      "Epoch 123, Loss: 0.08423387259244919\n",
      "Epoch 124, Loss: 0.0842331126332283\n",
      "Epoch 125, Loss: 0.084232397377491\n",
      "Epoch 126, Loss: 0.08423171192407608\n",
      "Epoch 127, Loss: 0.08423104882240295\n",
      "Epoch 128, Loss: 0.08423037081956863\n",
      "Epoch 129, Loss: 0.08422966301441193\n",
      "Epoch 130, Loss: 0.08422891795635223\n",
      "Epoch 131, Loss: 0.08422817289829254\n",
      "Epoch 132, Loss: 0.08422744274139404\n",
      "Epoch 133, Loss: 0.08422672003507614\n",
      "Epoch 134, Loss: 0.08422601968050003\n",
      "Epoch 135, Loss: 0.08422531187534332\n",
      "Epoch 136, Loss: 0.08422459661960602\n",
      "Epoch 137, Loss: 0.08422385901212692\n",
      "Epoch 138, Loss: 0.08422311395406723\n",
      "Epoch 139, Loss: 0.08422237634658813\n",
      "Epoch 140, Loss: 0.08422163128852844\n",
      "Epoch 141, Loss: 0.08422090113162994\n",
      "Epoch 142, Loss: 0.08422017842531204\n",
      "Epoch 143, Loss: 0.08421944826841354\n",
      "Epoch 144, Loss: 0.08421869575977325\n",
      "Epoch 145, Loss: 0.08421795815229416\n",
      "Epoch 146, Loss: 0.08421719819307327\n",
      "Epoch 147, Loss: 0.08421645313501358\n",
      "Epoch 148, Loss: 0.08421570062637329\n",
      "Epoch 149, Loss: 0.0842149555683136\n",
      "Epoch 150, Loss: 0.08421420305967331\n",
      "Epoch 151, Loss: 0.08421345055103302\n",
      "Epoch 152, Loss: 0.08421269804239273\n",
      "Epoch 153, Loss: 0.08421193808317184\n",
      "Epoch 154, Loss: 0.08421117067337036\n",
      "Epoch 155, Loss: 0.08421041071414948\n",
      "Epoch 156, Loss: 0.08420964330434799\n",
      "Epoch 157, Loss: 0.0842088833451271\n",
      "Epoch 158, Loss: 0.08420811593532562\n",
      "Epoch 159, Loss: 0.08420734852552414\n",
      "Epoch 160, Loss: 0.08420657366514206\n",
      "Epoch 161, Loss: 0.08420579880475998\n",
      "Epoch 162, Loss: 0.0842050239443779\n",
      "Epoch 163, Loss: 0.08420424163341522\n",
      "Epoch 164, Loss: 0.08420347422361374\n",
      "Epoch 165, Loss: 0.08420269191265106\n",
      "Epoch 166, Loss: 0.08420190960168839\n",
      "Epoch 167, Loss: 0.08420111984014511\n",
      "Epoch 168, Loss: 0.08420033752918243\n",
      "Epoch 169, Loss: 0.08419955521821976\n",
      "Epoch 170, Loss: 0.08419875800609589\n",
      "Epoch 171, Loss: 0.08419797569513321\n",
      "Epoch 172, Loss: 0.08419718593358994\n",
      "Epoch 173, Loss: 0.08419638872146606\n",
      "Epoch 174, Loss: 0.0841955915093422\n",
      "Epoch 175, Loss: 0.08419480174779892\n",
      "Epoch 176, Loss: 0.08419400453567505\n",
      "Epoch 177, Loss: 0.08419319987297058\n",
      "Epoch 178, Loss: 0.08419239521026611\n",
      "Epoch 179, Loss: 0.08419159054756165\n",
      "Epoch 180, Loss: 0.08419079333543777\n",
      "Epoch 181, Loss: 0.08418997377157211\n",
      "Epoch 182, Loss: 0.08418918401002884\n",
      "Epoch 183, Loss: 0.08418836444616318\n",
      "Epoch 184, Loss: 0.08418755233287811\n",
      "Epoch 185, Loss: 0.08418674767017365\n",
      "Epoch 186, Loss: 0.08418592065572739\n",
      "Epoch 187, Loss: 0.08418511599302292\n",
      "Epoch 188, Loss: 0.08418430387973785\n",
      "Epoch 189, Loss: 0.0841834768652916\n",
      "Epoch 190, Loss: 0.08418266475200653\n",
      "Epoch 191, Loss: 0.08418184518814087\n",
      "Epoch 192, Loss: 0.08418102562427521\n",
      "Epoch 193, Loss: 0.08418019860982895\n",
      "Epoch 194, Loss: 0.0841793641448021\n",
      "Epoch 195, Loss: 0.08417854458093643\n",
      "Epoch 196, Loss: 0.08417771756649017\n",
      "Epoch 197, Loss: 0.08417689055204391\n",
      "Epoch 198, Loss: 0.08417605608701706\n",
      "Epoch 199, Loss: 0.0841752290725708\n",
      "Epoch 200, Loss: 0.08417439460754395\n",
      "Epoch 201, Loss: 0.08417356014251709\n",
      "Epoch 202, Loss: 0.08417272567749023\n",
      "Epoch 203, Loss: 0.08417189121246338\n",
      "Epoch 204, Loss: 0.08417104929685593\n",
      "Epoch 205, Loss: 0.08417020738124847\n",
      "Epoch 206, Loss: 0.08416936546564102\n",
      "Epoch 207, Loss: 0.08416852355003357\n",
      "Epoch 208, Loss: 0.08416768163442612\n",
      "Epoch 209, Loss: 0.08416683971881866\n",
      "Epoch 210, Loss: 0.08416599035263062\n",
      "Epoch 211, Loss: 0.08416514843702316\n",
      "Epoch 212, Loss: 0.08416429162025452\n",
      "Epoch 213, Loss: 0.08416344970464706\n",
      "Epoch 214, Loss: 0.08416260033845901\n",
      "Epoch 215, Loss: 0.08416175097227097\n",
      "Epoch 216, Loss: 0.08416089415550232\n",
      "Epoch 217, Loss: 0.08416004478931427\n",
      "Epoch 218, Loss: 0.08415918052196503\n",
      "Epoch 219, Loss: 0.08415833115577698\n",
      "Epoch 220, Loss: 0.08415747433900833\n",
      "Epoch 221, Loss: 0.08415661007165909\n",
      "Epoch 222, Loss: 0.08415575325489044\n",
      "Epoch 223, Loss: 0.0841548889875412\n",
      "Epoch 224, Loss: 0.08415403217077255\n",
      "Epoch 225, Loss: 0.08415316790342331\n",
      "Epoch 226, Loss: 0.08415231108665466\n",
      "Epoch 227, Loss: 0.08415143936872482\n"
     ]
    },
    {
     "name": "stdout",
     "output_type": "stream",
     "text": [
      "Epoch 228, Loss: 0.08415057510137558\n",
      "Epoch 229, Loss: 0.08414970338344574\n",
      "Epoch 230, Loss: 0.0841488391160965\n",
      "Epoch 231, Loss: 0.08414797484874725\n",
      "Epoch 232, Loss: 0.08414710313081741\n",
      "Epoch 233, Loss: 0.08414623141288757\n",
      "Epoch 234, Loss: 0.08414535224437714\n",
      "Epoch 235, Loss: 0.08414449542760849\n",
      "Epoch 236, Loss: 0.08414360880851746\n",
      "Epoch 237, Loss: 0.08414273709058762\n",
      "Epoch 238, Loss: 0.08414185792207718\n",
      "Epoch 239, Loss: 0.08414098620414734\n",
      "Epoch 240, Loss: 0.0841401070356369\n",
      "Epoch 241, Loss: 0.08413922786712646\n",
      "Epoch 242, Loss: 0.08413835614919662\n",
      "Epoch 243, Loss: 0.08413747698068619\n",
      "Epoch 244, Loss: 0.08413658291101456\n",
      "Epoch 245, Loss: 0.08413571119308472\n",
      "Epoch 246, Loss: 0.08413482457399368\n",
      "Epoch 247, Loss: 0.08413394540548325\n",
      "Epoch 248, Loss: 0.08413305878639221\n",
      "Epoch 249, Loss: 0.08413217216730118\n",
      "Epoch 250, Loss: 0.08413128554821014\n",
      "Epoch 251, Loss: 0.08413039892911911\n",
      "Epoch 252, Loss: 0.08412951231002808\n",
      "Epoch 253, Loss: 0.08412862569093704\n",
      "Epoch 254, Loss: 0.08412773907184601\n",
      "Epoch 255, Loss: 0.08412684500217438\n",
      "Epoch 256, Loss: 0.08412595093250275\n",
      "Epoch 257, Loss: 0.08412506431341171\n",
      "Epoch 258, Loss: 0.08412417769432068\n",
      "Epoch 259, Loss: 0.08412327617406845\n",
      "Epoch 260, Loss: 0.08412238955497742\n",
      "Epoch 261, Loss: 0.08412148803472519\n",
      "Epoch 262, Loss: 0.08412060141563416\n",
      "Epoch 263, Loss: 0.08411969989538193\n",
      "Epoch 264, Loss: 0.0841187983751297\n",
      "Epoch 265, Loss: 0.08411790430545807\n",
      "Epoch 266, Loss: 0.08411701023578644\n",
      "Epoch 267, Loss: 0.08411610871553421\n",
      "Epoch 268, Loss: 0.08411520719528198\n",
      "Epoch 269, Loss: 0.08411430567502975\n",
      "Epoch 270, Loss: 0.08411340415477753\n",
      "Epoch 271, Loss: 0.0841125026345253\n",
      "Epoch 272, Loss: 0.08411160856485367\n",
      "Epoch 273, Loss: 0.08411070704460144\n",
      "Epoch 274, Loss: 0.08410980552434921\n",
      "Epoch 275, Loss: 0.08410890400409698\n",
      "Epoch 276, Loss: 0.08410798758268356\n",
      "Epoch 277, Loss: 0.08410708606243134\n",
      "Epoch 278, Loss: 0.08410617709159851\n",
      "Epoch 279, Loss: 0.08410527557134628\n",
      "Epoch 280, Loss: 0.08410436660051346\n",
      "Epoch 281, Loss: 0.08410345762968063\n",
      "Epoch 282, Loss: 0.0841025561094284\n",
      "Epoch 283, Loss: 0.08410164713859558\n",
      "Epoch 284, Loss: 0.08410073071718216\n",
      "Epoch 285, Loss: 0.08409982174634933\n",
      "Epoch 286, Loss: 0.0840989202260971\n",
      "Epoch 287, Loss: 0.08409800380468369\n",
      "Epoch 288, Loss: 0.08409708738327026\n",
      "Epoch 289, Loss: 0.08409617841243744\n",
      "Epoch 290, Loss: 0.08409527689218521\n",
      "Epoch 291, Loss: 0.08409436047077179\n",
      "Epoch 292, Loss: 0.08409344404935837\n",
      "Epoch 293, Loss: 0.08409253507852554\n",
      "Epoch 294, Loss: 0.08409161865711212\n",
      "Epoch 295, Loss: 0.0840907022356987\n",
      "Epoch 296, Loss: 0.08408979326486588\n",
      "Epoch 297, Loss: 0.08408887684345245\n",
      "Epoch 298, Loss: 0.08408795297145844\n",
      "Epoch 299, Loss: 0.08408704400062561\n",
      "Epoch 300, Loss: 0.08408612012863159\n",
      "Epoch 301, Loss: 0.08408521115779877\n",
      "Epoch 302, Loss: 0.08408429473638535\n",
      "Epoch 303, Loss: 0.08408337086439133\n",
      "Epoch 304, Loss: 0.0840824544429779\n",
      "Epoch 305, Loss: 0.08408153802156448\n",
      "Epoch 306, Loss: 0.08408062160015106\n",
      "Epoch 307, Loss: 0.08407969772815704\n",
      "Epoch 308, Loss: 0.08407877385616302\n",
      "Epoch 309, Loss: 0.0840778574347496\n",
      "Epoch 310, Loss: 0.08407693356275558\n",
      "Epoch 311, Loss: 0.08407601714134216\n",
      "Epoch 312, Loss: 0.08407509326934814\n",
      "Epoch 313, Loss: 0.08407417684793472\n",
      "Epoch 314, Loss: 0.08407324552536011\n",
      "Epoch 315, Loss: 0.08407233655452728\n",
      "Epoch 316, Loss: 0.08407140523195267\n",
      "Epoch 317, Loss: 0.08407048135995865\n",
      "Epoch 318, Loss: 0.08406955748796463\n",
      "Epoch 319, Loss: 0.08406864106655121\n",
      "Epoch 320, Loss: 0.08406770974397659\n",
      "Epoch 321, Loss: 0.08406680077314377\n",
      "Epoch 322, Loss: 0.08406586945056915\n",
      "Epoch 323, Loss: 0.08406494557857513\n",
      "Epoch 324, Loss: 0.08406401425600052\n",
      "Epoch 325, Loss: 0.0840630903840065\n",
      "Epoch 326, Loss: 0.08406216651201248\n",
      "Epoch 327, Loss: 0.08406125009059906\n",
      "Epoch 328, Loss: 0.08406031876802444\n",
      "Epoch 329, Loss: 0.08405940234661102\n",
      "Epoch 330, Loss: 0.08405846357345581\n",
      "Epoch 331, Loss: 0.08405753970146179\n",
      "Epoch 332, Loss: 0.08405660837888718\n",
      "Epoch 333, Loss: 0.08405568450689316\n",
      "Epoch 334, Loss: 0.08405476063489914\n",
      "Epoch 335, Loss: 0.08405382931232452\n",
      "Epoch 336, Loss: 0.0840529054403305\n",
      "Epoch 337, Loss: 0.08405197411775589\n",
      "Epoch 338, Loss: 0.08405105024576187\n",
      "Epoch 339, Loss: 0.08405011892318726\n",
      "Epoch 340, Loss: 0.08404919505119324\n",
      "Epoch 341, Loss: 0.08404826372861862\n",
      "Epoch 342, Loss: 0.0840473398566246\n",
      "Epoch 343, Loss: 0.08404641598463058\n",
      "Epoch 344, Loss: 0.08404548466205597\n",
      "Epoch 345, Loss: 0.08404456079006195\n",
      "Epoch 346, Loss: 0.08404362201690674\n",
      "Epoch 347, Loss: 0.08404270559549332\n",
      "Epoch 348, Loss: 0.0840417742729187\n",
      "Epoch 349, Loss: 0.08404084295034409\n",
      "Epoch 350, Loss: 0.08403991907835007\n",
      "Epoch 351, Loss: 0.08403898030519485\n",
      "Epoch 352, Loss: 0.08403805643320084\n",
      "Epoch 353, Loss: 0.08403712511062622\n",
      "Epoch 354, Loss: 0.0840362012386322\n",
      "Epoch 355, Loss: 0.08403527736663818\n",
      "Epoch 356, Loss: 0.08403433859348297\n",
      "Epoch 357, Loss: 0.08403340727090836\n",
      "Epoch 358, Loss: 0.08403247594833374\n",
      "Epoch 359, Loss: 0.08403155207633972\n",
      "Epoch 360, Loss: 0.0840306282043457\n",
      "Epoch 361, Loss: 0.08402968943119049\n",
      "Epoch 362, Loss: 0.08402876555919647\n",
      "Epoch 363, Loss: 0.08402782678604126\n",
      "Epoch 364, Loss: 0.08402690291404724\n",
      "Epoch 365, Loss: 0.08402597904205322\n",
      "Epoch 366, Loss: 0.08402504771947861\n",
      "Epoch 367, Loss: 0.08402412384748459\n",
      "Epoch 368, Loss: 0.08402318507432938\n",
      "Epoch 369, Loss: 0.08402225375175476\n",
      "Epoch 370, Loss: 0.08402132987976074\n",
      "Epoch 371, Loss: 0.08402039855718613\n",
      "Epoch 372, Loss: 0.08401947468519211\n",
      "Epoch 373, Loss: 0.08401854336261749\n",
      "Epoch 374, Loss: 0.08401761949062347\n",
      "Epoch 375, Loss: 0.08401668816804886\n",
      "Epoch 376, Loss: 0.08401574939489365\n",
      "Epoch 377, Loss: 0.08401483297348022\n",
      "Epoch 378, Loss: 0.08401389420032501\n",
      "Epoch 379, Loss: 0.084012970328331\n",
      "Epoch 380, Loss: 0.08401203900575638\n",
      "Epoch 381, Loss: 0.08401111513376236\n",
      "Epoch 382, Loss: 0.08401019126176834\n",
      "Epoch 383, Loss: 0.08400925993919373\n",
      "Epoch 384, Loss: 0.08400832861661911\n",
      "Epoch 385, Loss: 0.0840073898434639\n",
      "Epoch 386, Loss: 0.08400647342205048\n",
      "Epoch 387, Loss: 0.08400554209947586\n",
      "Epoch 388, Loss: 0.08400461077690125\n",
      "Epoch 389, Loss: 0.08400369435548782\n",
      "Epoch 390, Loss: 0.08400275558233261\n",
      "Epoch 391, Loss: 0.08400183171033859\n",
      "Epoch 392, Loss: 0.08400090783834457\n",
      "Epoch 393, Loss: 0.08399997651576996\n",
      "Epoch 394, Loss: 0.08399904519319534\n",
      "Epoch 395, Loss: 0.08399812877178192\n",
      "Epoch 396, Loss: 0.0839971974492073\n",
      "Epoch 397, Loss: 0.08399627357721329\n",
      "Epoch 398, Loss: 0.08399534970521927\n",
      "Epoch 399, Loss: 0.08399442583322525\n",
      "Epoch 400, Loss: 0.08399350196123123\n",
      "Epoch 401, Loss: 0.08399257063865662\n",
      "Epoch 402, Loss: 0.0839916467666626\n",
      "Epoch 403, Loss: 0.08399071544408798\n",
      "Epoch 404, Loss: 0.08398979157209396\n",
      "Epoch 405, Loss: 0.08398886770009995\n",
      "Epoch 406, Loss: 0.08398795127868652\n",
      "Epoch 407, Loss: 0.08398701995611191\n",
      "Epoch 408, Loss: 0.08398610353469849\n",
      "Epoch 409, Loss: 0.08398517221212387\n",
      "Epoch 410, Loss: 0.08398425579071045\n",
      "Epoch 411, Loss: 0.08398332446813583\n",
      "Epoch 412, Loss: 0.08398240059614182\n",
      "Epoch 413, Loss: 0.0839814841747284\n",
      "Epoch 414, Loss: 0.08398056030273438\n",
      "Epoch 415, Loss: 0.08397964388132095\n",
      "Epoch 416, Loss: 0.08397872000932693\n",
      "Epoch 417, Loss: 0.08397778868675232\n",
      "Epoch 418, Loss: 0.0839768797159195\n",
      "Epoch 419, Loss: 0.08397595584392548\n",
      "Epoch 420, Loss: 0.08397503197193146\n",
      "Epoch 421, Loss: 0.08397410809993744\n",
      "Epoch 422, Loss: 0.08397319167852402\n",
      "Epoch 423, Loss: 0.0839722752571106\n",
      "Epoch 424, Loss: 0.08397135138511658\n",
      "Epoch 425, Loss: 0.08397043496370316\n",
      "Epoch 426, Loss: 0.08396951109170914\n",
      "Epoch 427, Loss: 0.08396859467029572\n",
      "Epoch 428, Loss: 0.0839676707983017\n",
      "Epoch 429, Loss: 0.08396675437688828\n",
      "Epoch 430, Loss: 0.08396584540605545\n",
      "Epoch 431, Loss: 0.08396491408348083\n",
      "Epoch 432, Loss: 0.08396400511264801\n",
      "Epoch 433, Loss: 0.08396309614181519\n",
      "Epoch 434, Loss: 0.08396217226982117\n",
      "Epoch 435, Loss: 0.08396126329898834\n",
      "Epoch 436, Loss: 0.08396034687757492\n",
      "Epoch 437, Loss: 0.0839594304561615\n",
      "Epoch 438, Loss: 0.08395852148532867\n",
      "Epoch 439, Loss: 0.08395760506391525\n",
      "Epoch 440, Loss: 0.08395668864250183\n",
      "Epoch 441, Loss: 0.083955779671669\n",
      "Epoch 442, Loss: 0.08395486325025558\n",
      "Epoch 443, Loss: 0.08395395427942276\n",
      "Epoch 444, Loss: 0.08395304530858994\n",
      "Epoch 445, Loss: 0.08395212888717651\n",
      "Epoch 446, Loss: 0.08395121991634369\n",
      "Epoch 447, Loss: 0.08395030349493027\n",
      "Epoch 448, Loss: 0.08394939452409744\n",
      "Epoch 449, Loss: 0.08394848555326462\n",
      "Epoch 450, Loss: 0.0839475765824318\n"
     ]
    },
    {
     "name": "stdout",
     "output_type": "stream",
     "text": [
      "Epoch 451, Loss: 0.08394666761159897\n",
      "Epoch 452, Loss: 0.08394575864076614\n",
      "Epoch 453, Loss: 0.08394484966993332\n",
      "Epoch 454, Loss: 0.0839439406991005\n",
      "Epoch 455, Loss: 0.08394303172826767\n",
      "Epoch 456, Loss: 0.08394213020801544\n",
      "Epoch 457, Loss: 0.08394122123718262\n",
      "Epoch 458, Loss: 0.08394031226634979\n",
      "Epoch 459, Loss: 0.08393940329551697\n",
      "Epoch 460, Loss: 0.08393850177526474\n",
      "Epoch 461, Loss: 0.08393760770559311\n",
      "Epoch 462, Loss: 0.08393669873476028\n",
      "Epoch 463, Loss: 0.08393578976392746\n",
      "Epoch 464, Loss: 0.08393488079309464\n",
      "Epoch 465, Loss: 0.083933986723423\n",
      "Epoch 466, Loss: 0.08393307775259018\n",
      "Epoch 467, Loss: 0.08393218368291855\n",
      "Epoch 468, Loss: 0.08393127471208572\n",
      "Epoch 469, Loss: 0.08393038064241409\n",
      "Epoch 470, Loss: 0.08392947912216187\n",
      "Epoch 471, Loss: 0.08392858505249023\n",
      "Epoch 472, Loss: 0.083927683532238\n",
      "Epoch 473, Loss: 0.08392678201198578\n",
      "Epoch 474, Loss: 0.08392588049173355\n",
      "Epoch 475, Loss: 0.08392497897148132\n",
      "Epoch 476, Loss: 0.08392408490180969\n",
      "Epoch 477, Loss: 0.08392319083213806\n",
      "Epoch 478, Loss: 0.08392229676246643\n",
      "Epoch 479, Loss: 0.0839214026927948\n",
      "Epoch 480, Loss: 0.08392050862312317\n",
      "Epoch 481, Loss: 0.08391961455345154\n",
      "Epoch 482, Loss: 0.08391872048377991\n",
      "Epoch 483, Loss: 0.08391781896352768\n",
      "Epoch 484, Loss: 0.08391693234443665\n",
      "Epoch 485, Loss: 0.08391603827476501\n",
      "Epoch 486, Loss: 0.08391514420509338\n",
      "Epoch 487, Loss: 0.08391425013542175\n",
      "Epoch 488, Loss: 0.08391335606575012\n",
      "Epoch 489, Loss: 0.08391247689723969\n",
      "Epoch 490, Loss: 0.08391158282756805\n",
      "Epoch 491, Loss: 0.08391068875789642\n",
      "Epoch 492, Loss: 0.08390980958938599\n",
      "Epoch 493, Loss: 0.08390892297029495\n",
      "Epoch 494, Loss: 0.08390803635120392\n",
      "Epoch 495, Loss: 0.08390714973211288\n",
      "Epoch 496, Loss: 0.08390626311302185\n",
      "Epoch 497, Loss: 0.08390536904335022\n",
      "Epoch 498, Loss: 0.08390448987483978\n",
      "Epoch 499, Loss: 0.08390360325574875\n"
     ]
    }
   ],
   "source": [
    "model = GCN().to(device)\n",
    "optimizer = torch.optim.Adam(model.parameters(), lr=0.01)\n",
    "\n",
    "# Define the loss function\n",
    "criterion = torch.nn.MSELoss()\n",
    "\n",
    "# Define the training loop\n",
    "def train(model, data, optimizer, criterion, device):\n",
    "    model.train()\n",
    "\n",
    "    # Move the data to the device\n",
    "    data = data.to(device)\n",
    "\n",
    "    # Zero the gradients\n",
    "    optimizer.zero_grad()\n",
    "\n",
    "    # Compute the model output\n",
    "    out = model(data.x, data.edge_index)\n",
    "\n",
    "    # Compute the loss\n",
    "    loss = criterion(out, data.y)\n",
    "\n",
    "    # Backpropagate the gradients\n",
    "    loss.backward()\n",
    "    optimizer.step()\n",
    "\n",
    "    return loss.item()\n",
    "\n",
    "# Train the model\n",
    "loss_list = []\n",
    "for epoch in range(500):\n",
    "    loss = train(model, data, optimizer, criterion, device)\n",
    "    loss_list.append(loss)\n",
    "    print('Epoch {}, Loss: {}'.format(epoch, loss))"
   ]
  },
  {
   "cell_type": "code",
   "execution_count": 15,
   "id": "80e770f1",
   "metadata": {
    "scrolled": false
   },
   "outputs": [
    {
     "data": {
      "image/png": "[encoded data removed]",
      "text/plain": [
       "<Figure size 640x480 with 1 Axes>"
      ]
     },
     "metadata": {},
     "output_type": "display_data"
    }
   ],
   "source": [
    "plt.figure(1)\n",
    "plt.plot(loss_list, label = 'train loss')\n",
    "plt.xlabel('# iteration')\n",
    "plt.ylabel('loss (mean squared error)')\n",
    "plt.yscale('log')\n",
    "plt.title('Train loss')\n",
    "plt.show()"
   ]
  },
  {
   "cell_type": "code",
   "execution_count": 16,
   "id": "e7a4a865",
   "metadata": {},
   "outputs": [
    {
     "data": {
      "text/plain": [
       "tensor([[    1,     1,     1,  ..., 36864, 36864, 36864],\n",
       "        [    1,     2,     3,  ..., 36862, 36863, 36864]], device='cuda:0')"
      ]
     },
     "execution_count": 16,
     "metadata": {},
     "output_type": "execute_result"
    }
   ],
   "source": [
    "data.edge_index"
   ]
  },
  {
   "cell_type": "code",
   "execution_count": 17,
   "id": "50d9b440",
   "metadata": {},
   "outputs": [],
   "source": [
    "# Compute predicted u and residual error\n",
    "model.eval()\n",
    "predicted_u = model(data.x, data.edge_index)"
   ]
  },
  {
   "cell_type": "code",
   "execution_count": 18,
   "id": "e78caaa1",
   "metadata": {},
   "outputs": [
    {
     "data": {
      "text/plain": [
       "tensor([[0.4953],\n",
       "        [0.4888],\n",
       "        [0.4888],\n",
       "        ...,\n",
       "        [0.4827],\n",
       "        [0.4827],\n",
       "        [0.5119]], device='cuda:0', grad_fn=<AddBackward0>)"
      ]
     },
     "execution_count": 18,
     "metadata": {},
     "output_type": "execute_result"
    }
   ],
   "source": [
    "predicted_u"
   ]
  },
  {
   "cell_type": "code",
   "execution_count": 19,
   "id": "980d637d",
   "metadata": {},
   "outputs": [
    {
     "data": {
      "text/plain": [
       "tensor([[0.6212],\n",
       "        [0.1044],\n",
       "        [0.0266],\n",
       "        ...,\n",
       "        [0.1812],\n",
       "        [0.3843],\n",
       "        [0.7157]])"
      ]
     },
     "execution_count": 19,
     "metadata": {},
     "output_type": "execute_result"
    }
   ],
   "source": [
    "u"
   ]
  },
  {
   "cell_type": "markdown",
   "id": "6375ac90",
   "metadata": {},
   "source": [
    "# Residual Error \n",
    "\n",
    "The residual error can be interpreted as the sum of the squared distances between the predicted values Au and the true values b. It is a measure of how well the solution u fits the original matrix equation Au = b. A lower residual error indicates a better fit of the solution to the equation.\n",
    "\n",
    "\\begin{equation}\n",
    "error = \\sum(||Au - b||^{2})\n",
    "\\end{equation}"
   ]
  },
  {
   "cell_type": "code",
   "execution_count": 20,
   "id": "9009c29c",
   "metadata": {},
   "outputs": [
    {
     "data": {
      "text/plain": [
       "tensor([[ 0.0000e+00],\n",
       "        [ 7.4996e-06],\n",
       "        [ 3.4891e-05],\n",
       "        ...,\n",
       "        [ 2.3305e-05],\n",
       "        [ 1.9381e-05],\n",
       "        [-5.0572e-06]], device='cuda:0', grad_fn=<SubBackward0>)"
      ]
     },
     "execution_count": 20,
     "metadata": {},
     "output_type": "execute_result"
    }
   ],
   "source": [
    "residual = (torch.mm(A.to(device), predicted_u) - b.to(device))\n",
    "residual"
   ]
  },
  {
   "cell_type": "code",
   "execution_count": 21,
   "id": "2d00325e",
   "metadata": {},
   "outputs": [
    {
     "name": "stdout",
     "output_type": "stream",
     "text": [
      "Residual error is: 4.600614192895591e-05\n"
     ]
    }
   ],
   "source": [
    "residual_error = torch.sum(torch.square(torch.mm(A.to(device), predicted_u) - b.to(device)))\n",
    "print(f'Residual error is: {residual_error}')"
   ]
  }
 ],
 "metadata": {
  "kernelspec": {
   "display_name": "Python 3 (ipykernel)",
   "language": "python",
   "name": "python3"
  },
  "language_info": {
   "codemirror_mode": {
    "name": "ipython",
    "version": 3
   },
   "file_extension": ".py",
   "mimetype": "text/x-python",
   "name": "python",
   "nbconvert_exporter": "python",
   "pygments_lexer": "ipython3",
   "version": "3.8.16"
  }
 },
 "nbformat": 4,
 "nbformat_minor": 5
}
